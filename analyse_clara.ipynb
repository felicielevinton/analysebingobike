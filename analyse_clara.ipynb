{
 "cells": [
  {
   "cell_type": "code",
   "execution_count": null,
   "metadata": {},
   "outputs": [],
   "source": [
    "from kneed import DataGenerator, KneeLocator\n",
    "import matplotlib.pyplot as plt\n",
    "import pandas as pd\n",
    "import csv\n",
    "import os\n",
    "import scipy.io\n",
    "import json\n",
    "import numpy as np\n",
    "from format_data import *\n",
    "from utils import *\n",
    "import pickle"
   ]
  },
  {
   "cell_type": "code",
   "execution_count": null,
   "metadata": {},
   "outputs": [],
   "source": [
    "t_pre = 0.2#0.2\n",
    "t_post = 0.50#0.300\n",
    "bin_width = 0.005\n",
    "# Créer les bins de temps\"\n",
    "psth_bins = np.arange(-t_pre, t_post, bin_width)\n",
    "#gc = np.arange(0, 32)"
   ]
  },
  {
   "cell_type": "code",
   "execution_count": null,
   "metadata": {},
   "outputs": [],
   "source": [
    "path = '/auto/data2/eTheremin/OSCYPEK/OSCYPEK/OSCYPEK_20240710_SESSION_00/'"
   ]
  },
  {
   "cell_type": "code",
   "execution_count": null,
   "metadata": {},
   "outputs": [],
   "source": [
    "data = np.load(path+'headstage_0/data_0.005.npy', allow_pickle=True)\n",
    "features = np.load(path+'headstage_0/features_0.005.npy', allow_pickle=True)\n",
    "#gc = np.load(path+'headstage_0/good_clusters.npy', allow_pickle=True)\n",
    "gc = np.arange(0, 32)"
   ]
  },
  {
   "cell_type": "code",
   "execution_count": null,
   "metadata": {},
   "outputs": [],
   "source": [
    "#tail = get_psth(data, features, t_pre, t_post, bin_width, gc, 'tail')\n",
    "#tracking = get_psth(data, features, t_pre, t_post, bin_width, gc, 'tracking')\n",
    "#mc = get_psth(data, features, t_pre, t_post, bin_width, gc, 'mapping change')\n",
    "playback = get_psth(data, features, t_pre, t_post, bin_width, gc, 'playback') "
   ]
  },
  {
   "cell_type": "markdown",
   "metadata": {},
   "source": [
    "pour plot cluster par cluster : "
   ]
  },
  {
   "cell_type": "code",
   "execution_count": null,
   "metadata": {},
   "outputs": [],
   "source": [
    "# pour plot cluster par cluster16\n",
    "fig, axes = plt.subplots(4, 8, figsize=(16, 8))\n",
    "fig.suptitle('Tracking/mapping change', y=1.02)\n",
    "plt.subplots_adjust() \n",
    "num_plots, num_rows, num_columns = get_better_plot_geometry(gc)\n",
    "psth_bins = np.arange(-t_pre, t_post, bin_width)\n",
    "for cluster in range(num_plots):\n",
    "    if cluster < num_plots: \n",
    "        row, col = get_plot_coords(cluster)\n",
    "        axes[row, col].plot(psth_bins, np.nanmean(playback[cluster], axis=0), c = 'red', label = 'tracking')\n",
    "        #axes[row, col].plot(psth_bins, np.nanmean(mc[cluster], axis=0), c = 'purple', label = 'mapping change')\n",
    "        axes[row, col].axvline(0, c = 'grey', linestyle='--')\n",
    "        axes[row, col].set_title(f'Cluster {cluster}')\n",
    "        axes[row, col].spines['top'].set_visible(False)\n",
    "        axes[row, col].spines['right'].set_visible(False)"
   ]
  }
 ],
 "metadata": {
  "language_info": {
   "name": "python"
  }
 },
 "nbformat": 4,
 "nbformat_minor": 2
}
