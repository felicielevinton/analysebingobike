{
 "cells": [
  {
   "cell_type": "code",
   "execution_count": 25,
   "metadata": {},
   "outputs": [],
   "source": [
    "from kneed import DataGenerator, KneeLocator\n",
    "import sys\n",
    "import os\n",
    "from utils import *\n",
    "sys.path.append(os.path.abspath('../extraction'))\n",
    "import matplotlib.pyplot as plt\n",
    "import pandas as pd\n",
    "import csv\n",
    "import scipy.io\n",
    "import json\n",
    "import numpy as np\n",
    "from format_data import *\n",
    "import pickle\n",
    "from sklearn.decomposition import PCA\n",
    "from sklearn.preprocessing import StandardScaler\n",
    "from collections import Counter\n",
    "import numpy as np\n",
    "from sklearn.model_selection import train_test_split, KFold\n",
    "from sklearn.neighbors import KNeighborsClassifier  # Importer KNeighborsClassifier\n",
    "#from sklearn.ensemble import RandomForestClassifier\n",
    "from sklearn.preprocessing import StandardScaler\n",
    "from sklearn.metrics import accuracy_score\n",
    "import seaborn as sns\n",
    "current_dir = os.getcwd()\n",
    "positions_dir = os.path.join(current_dir, 'positions')\n",
    "sys.path.append(positions_dir)\n",
    "import resync as rs\n",
    "from scipy.signal import find_peaks\n",
    "import pandas as pd\n",
    "from utils import bizarre\n",
    "from scipy import stats\n",
    "fs = 160"
   ]
  },
  {
   "cell_type": "code",
   "execution_count": 2,
   "metadata": {},
   "outputs": [
    {
     "data": {
      "text/plain": [
       "2"
      ]
     },
     "execution_count": 2,
     "metadata": {},
     "output_type": "execute_result"
    }
   ],
   "source": [
    "bizarre()"
   ]
  },
  {
   "cell_type": "code",
   "execution_count": 26,
   "metadata": {},
   "outputs": [],
   "source": [
    "t_pre = 0.2#0.2\n",
    "t_post = 0.50#0.300\n",
    "bin_width = 0.005\n",
    "# Créer les bins de temps\"\n",
    "psth_bins = np.arange(-t_pre, t_post, bin_width)\n",
    "#gc = np.arange(0, 32)"
   ]
  },
  {
   "cell_type": "code",
   "execution_count": null,
   "metadata": {},
   "outputs": [],
   "source": [
    "path = 'Y:/eTheremin/clara/ALTAI_20240822_SESSION_00/'\n",
    "data = np.load(path+'data_ss_0.005.npy', allow_pickle=True)\n",
    "path_features = 'Z:/eTheremin/ALTAI/ALTAI_20240822_SESSION_00/headstage_0/'\n",
    "features = np.load(path_features+'features_0.005.npy', allow_pickle=True)\n",
    "gc = np.arange(len(data))"
   ]
  },
  {
   "cell_type": "code",
   "execution_count": 6,
   "metadata": {},
   "outputs": [
    {
     "name": "stdout",
     "output_type": "stream",
     "text": [
      "Counter({np.float64(533.0): 179707, np.float64(0.0): 121926, np.float64(828.0): 78042, np.float64(6484.0): 74196, np.float64(3601.0): 68865, np.float64(2684.0): 65349, np.float64(617.0): 48361, np.float64(460.0): 36371, np.float64(715.0): 30704, np.float64(1111.0): 20847, np.float64(959.0): 17708, np.float64(7511.0): 14910, np.float64(1287.0): 14094, np.float64(397.0): 9546, np.float64(4172.0): 8819, np.float64(3109.0): 7402, np.float64(4832.0): 7160, np.float64(1490.0): 7099, np.float64(343.0): 6460, np.float64(2317.0): 5228, np.float64(2000.0): 4947, np.float64(5598.0): 4706, np.float64(8701.0): 4374, np.float64(1727.0): 4285, np.float64(10079.0): 547, np.float64(296.0): 213, np.float64(11676.0): 45})\n"
     ]
    }
   ],
   "source": [
    "frequencies = [item['Mock_frequency'] for item in features]\n",
    "\n",
    "# Compter les occurrences\n",
    "frequency_counts = Counter(frequencies)\n",
    "\n",
    "print(frequency_counts)"
   ]
  },
  {
   "cell_type": "markdown",
   "metadata": {},
   "source": [
    "Violin plot "
   ]
  },
  {
   "cell_type": "code",
   "execution_count": 27,
   "metadata": {},
   "outputs": [],
   "source": [
    "def good_blocks(session: str,type,frequency= None):\n",
    "    path = 'Y:/eTheremin/clara/' + session + '/'\n",
    "    data = np.load(path+'data_ss_0.005.npy', allow_pickle=True)\n",
    "    path_features = 'Z:/eTheremin/ALTAI/' + session + '/headstage_0/'\n",
    "    features = np.load(path_features+'features_0.005.npy', allow_pickle=True)\n",
    "    gc = np.arange(len(data))\n",
    "    blocks = [1,3,5]\n",
    "    psths = []\n",
    "    labels = []\n",
    "    for block in blocks:\n",
    "        psth,label = get_psth_in_block(data, features,t_pre, t_post, bin_width, gc, block, type, frequency)\n",
    "        psth_transpose = np.moveaxis(psth, 1, 0) #(4104, 33, 2)\n",
    "        label_transpose = np.moveaxis(label, 1, 0)\n",
    "        psths.extend(psth_transpose)\n",
    "        labels.extend(label_transpose)\n",
    "    return psths,labels,gc,label,label_transpose"
   ]
  },
  {
   "cell_type": "code",
   "execution_count": 31,
   "metadata": {},
   "outputs": [],
   "source": [
    "def KNN(session,type,psths,labels,gc):      \n",
    "\n",
    "    print(len(labels),list(dict.fromkeys([len(labels[k]) for k in range(len(labels))])),list(dict.fromkeys([len(labels[k][i]) for k in range(len(labels)) for i in range(len(labels[k]))])))\n",
    "    print(len(psths),list(dict.fromkeys([len(psths[k]) for k in range(len(psths))])),list(dict.fromkeys([len(psths[k][i]) for k in range(len(psths)) for i in range(len(psths[k]))])))\n",
    "    psths_condense = get_part_psth(psths, gc)\n",
    "    # psths_transpose = np.moveaxis(psths_condense, 1, 0) #(4104, 33, 2)\n",
    "    # label_transpose = np.moveaxis(labels, 1, 0)\n",
    "    labels = np.array(labels)\n",
    "    c0 = np.array(psths_condense)\n",
    "    condition = labels[:,0,0]\n",
    "    scaler = StandardScaler()\n",
    "\n",
    "    # Initialiser le modèle KNN\n",
    "    knn_classifier = KNeighborsClassifier(n_neighbors=5)  # Choisir le nombre de voisins\n",
    "    #knn_classifier = RandomForestClassifier(n_estimators=100, random_state=42)\n",
    "\n",
    "    # Initialiser KFold avec 100 plis\n",
    "    kf = KFold(n_splits=100, shuffle=True, random_state=42)\n",
    "\n",
    "    # Liste pour stocker les moyennes des précisions pour chaque bin\n",
    "    mean_accuracies_per_bin = []\n",
    "    res = []\n",
    "\n",
    "    # Itérer sur chaque bin\n",
    "    for bin in range(7):  # 7 bins\n",
    "        c0_bin = c0[:,:,bin]  # Sélectionner les données pour le bin actuel\n",
    "        \n",
    "        # Standardisation des données pour le bin actuel\n",
    "        psth_data_scaled = scaler.fit_transform(c0_bin)\n",
    "        \n",
    "        # Liste pour stocker les précisions pour chaque plis\n",
    "        accuracies = []\n",
    "        \n",
    "        # Validation croisée\n",
    "        for train_index, test_index in kf.split(psth_data_scaled):\n",
    "            X_train, X_test = psth_data_scaled[train_index], psth_data_scaled[test_index]\n",
    "            y_train, y_test = condition[train_index], condition[test_index]\n",
    "            \n",
    "            # Entraîner le modèle\n",
    "            knn_classifier.fit(X_train, y_train)\n",
    "            \n",
    "            # Faire des prédictions\n",
    "            y_pred = knn_classifier.predict(X_test)\n",
    "            \n",
    "            # Calculer et stocker l'accuracy\n",
    "            accuracy = accuracy_score(y_test, y_pred)\n",
    "            accuracies.append(accuracy)\n",
    "\n",
    "        # Convertir la liste des précisions en tableau numpy\n",
    "        accuracies = np.array(accuracies)\n",
    "        \n",
    "        # Calculer la moyenne de l'accuracy pour le bin courant\n",
    "        mean_accuracy = np.mean(accuracies)\n",
    "        std_accuracy = np.std(accuracies)\n",
    "        mean_accuracies_per_bin.append(mean_accuracy)\n",
    "        res.append([session,mean_accuracy,std_accuracy,bin,type])       # Afficher les résultats pour ce bin\n",
    "        print(f\"Bin {bin}: Moyenne de l'accuracy = {mean_accuracy:.4f}\")\n",
    "        print(f\"Bin {bin}: Écart-type de l'accuracy = {np.std(accuracies):.4f}\")\n",
    "    return res,mean_accuracies_per_bin, accuracies, condition\n"
   ]
  },
  {
   "cell_type": "code",
   "execution_count": 20,
   "metadata": {},
   "outputs": [],
   "source": [
    "list_frequencies = [190,220,255,\n",
    "                    296,343,397,\n",
    "                    460,533,617,\n",
    "                    715,828,959,\n",
    "                    1111,1287,1490,\n",
    "                    1727,2000,2317,\n",
    "                    2684,3109,3601,\n",
    "                    4172,4832,5598,\n",
    "                    6484,7511,8701,\n",
    "                    10079,11676,13525,\n",
    "                    15667,18149,21024]"
   ]
  },
  {
   "cell_type": "code",
   "execution_count": 8,
   "metadata": {},
   "outputs": [
    {
     "name": "stdout",
     "output_type": "stream",
     "text": [
      "278 [30] [2]\n",
      "278 [30] [140]\n",
      "Bin 0: Moyenne de l'accuracy = 0.5017\n",
      "Bin 0: Écart-type de l'accuracy = 0.2986\n",
      "Bin 1: Moyenne de l'accuracy = 0.5250\n",
      "Bin 1: Écart-type de l'accuracy = 0.3086\n",
      "Bin 2: Moyenne de l'accuracy = 0.5250\n",
      "Bin 2: Écart-type de l'accuracy = 0.2947\n",
      "Bin 3: Moyenne de l'accuracy = 0.5217\n",
      "Bin 3: Écart-type de l'accuracy = 0.2941\n",
      "Bin 4: Moyenne de l'accuracy = 0.4700\n",
      "Bin 4: Écart-type de l'accuracy = 0.2597\n",
      "Bin 5: Moyenne de l'accuracy = 0.4267\n",
      "Bin 5: Écart-type de l'accuracy = 0.2890\n",
      "Bin 6: Moyenne de l'accuracy = 0.5117\n",
      "Bin 6: Écart-type de l'accuracy = 0.2860\n",
      "454 [30] [2]\n",
      "454 [30] [140]\n",
      "Bin 0: Moyenne de l'accuracy = 0.6940\n",
      "Bin 0: Écart-type de l'accuracy = 0.2111\n",
      "Bin 1: Moyenne de l'accuracy = 0.7000\n",
      "Bin 1: Écart-type de l'accuracy = 0.2021\n",
      "Bin 2: Moyenne de l'accuracy = 0.7100\n",
      "Bin 2: Écart-type de l'accuracy = 0.2206\n",
      "Bin 3: Moyenne de l'accuracy = 0.6720\n",
      "Bin 3: Écart-type de l'accuracy = 0.2316\n",
      "Bin 4: Moyenne de l'accuracy = 0.7090\n",
      "Bin 4: Écart-type de l'accuracy = 0.2373\n",
      "Bin 5: Moyenne de l'accuracy = 0.6960\n",
      "Bin 5: Écart-type de l'accuracy = 0.2084\n",
      "Bin 6: Moyenne de l'accuracy = 0.7050\n",
      "Bin 6: Écart-type de l'accuracy = 0.2338\n"
     ]
    },
    {
     "data": {
      "image/png": "[encoded data removed]",
      "text/plain": [
       "<Figure size 1000x600 with 1 Axes>"
      ]
     },
     "metadata": {},
     "output_type": "display_data"
    }
   ],
   "source": [
    "session = 'ALTAI_20240814_SESSION_00'\n",
    "\n",
    "\n",
    "# Récupérer les données de \"playback\"\n",
    "psths_playback, labels_playback, gc = good_blocks(session, 'playback',617)   #[530,730]\n",
    "res_pbl, mean_accuracies_per_bin_pbl,accuracies_pbl, pbl = KNN(session, 'playback', psths_playback, labels_playback, gc)\n",
    "\n",
    "# Récupérer les données de \"tracking\"\n",
    "psths_tracking, labels_tracking, gc = good_blocks(session, 'tracking',617)\n",
    "res_tra, mean_accuracies_per_bin_tra, accuracies_tra, tra = KNN(session, 'tracking', psths_tracking, labels_tracking, gc)\n",
    "\n",
    "# Tracer les courbes de l'accuracy par bin pour \"playback\" et \"tracking\"\n",
    "plt.figure(figsize=(10, 6))\n",
    "\n",
    "# Courbe pour l'accuracy en \"playback\"\n",
    "plt.plot(range(7), mean_accuracies_per_bin_pbl, marker='o', color='deepskyblue', label='Playback', linestyle='-', linewidth=2)\n",
    "\n",
    "# Courbe pour l'accuracy en \"tracking\"\n",
    "plt.plot(range(7), mean_accuracies_per_bin_tra, marker='s', color='tomato', label='Tracking', linestyle='-', linewidth=2)\n",
    "\n",
    "# Ajouter un titre et des labels\n",
    "plt.title('Moyenne de l\\'Accuracy par Bin (Playback vs Tracking)')\n",
    "plt.xlabel('Temps en secondes')\n",
    "plt.ylabel('Moyenne de l\\'Accuracy')\n",
    "\n",
    "# Légende des axes x\n",
    "plt.xticks(range(7), labels=[f\"{i * 0.1:.1f}\" for i in range(7)])\n",
    "\n",
    "# Ajouter une ligne verticale pour indiquer \"Son\"\n",
    "plt.axvline(x=2, color='red', linestyle='--', label='Son')\n",
    "\n",
    "# Définir l'échelle des ordonnées (limites de l'axe y entre 0.4 et 1)\n",
    "plt.ylim(0.4, 1)\n",
    "\n",
    "# Ajouter une grille\n",
    "plt.grid(axis='y', linestyle='--', alpha=0.7)\n",
    "\n",
    "# Ajouter une légende pour distinguer les courbes\n",
    "plt.legend()\n",
    "\n",
    "# Afficher le graphique\n",
    "plt.show()\n",
    "\n"
   ]
  },
  {
   "cell_type": "code",
   "execution_count": 11,
   "metadata": {},
   "outputs": [
    {
     "name": "stdout",
     "output_type": "stream",
     "text": [
      "{np.int64(0): 157, np.int64(1): 297}\n",
      "{np.int64(0): 133, np.int64(1): 145}\n"
     ]
    }
   ],
   "source": [
    "l1 = [labels_tracking[k][0][0] for k in range(len(labels_tracking))]\n",
    "d1 = dict(Counter(l1))  #{np.int64(0): 945, np.int64(1): 993} pour le tracking de la session ALTAI_20240822_SESSION_00\n",
    "print(d1)\n",
    "l2 = [labels_playback[k][0][0] for k in range(len(labels_playback))]\n",
    "d2 = dict(Counter(l2))  #{np.int64(0): 945, np.int64(1): 993} pour le tracking de la session ALTAI_20240822_SESSION_00\n",
    "print(d2)"
   ]
  },
  {
   "cell_type": "code",
   "execution_count": 12,
   "metadata": {},
   "outputs": [
    {
     "data": {
      "text/plain": [
       "157"
      ]
     },
     "execution_count": 12,
     "metadata": {},
     "output_type": "execute_result"
    }
   ],
   "source": [
    "d1[0]"
   ]
  },
  {
   "cell_type": "code",
   "execution_count": null,
   "metadata": {},
   "outputs": [
    {
     "ename": "KeyError",
     "evalue": "'Mock_frequency'",
     "output_type": "error",
     "traceback": [
      "\u001b[1;31m---------------------------------------------------------------------------\u001b[0m",
      "\u001b[1;31mKeyError\u001b[0m                                  Traceback (most recent call last)",
      "Cell \u001b[1;32mIn[20], line 1\u001b[0m\n\u001b[1;32m----> 1\u001b[0m f \u001b[38;5;241m=\u001b[39m \u001b[43m[\u001b[49m\u001b[43mfeatures\u001b[49m\u001b[43m[\u001b[49m\u001b[43mk\u001b[49m\u001b[43m]\u001b[49m\u001b[43m[\u001b[49m\u001b[38;5;124;43m'\u001b[39;49m\u001b[38;5;124;43mMock_frequency\u001b[39;49m\u001b[38;5;124;43m'\u001b[39;49m\u001b[43m]\u001b[49m\u001b[43m \u001b[49m\u001b[38;5;28;43;01mfor\u001b[39;49;00m\u001b[43m \u001b[49m\u001b[43mk\u001b[49m\u001b[43m \u001b[49m\u001b[38;5;129;43;01min\u001b[39;49;00m\u001b[43m \u001b[49m\u001b[38;5;28;43mrange\u001b[39;49m\u001b[43m(\u001b[49m\u001b[38;5;28;43mlen\u001b[39;49m\u001b[43m(\u001b[49m\u001b[43mfeatures\u001b[49m\u001b[43m)\u001b[49m\u001b[43m)\u001b[49m\u001b[43m \u001b[49m\u001b[38;5;28;43;01mif\u001b[39;49;00m\u001b[43m \u001b[49m\u001b[43mfeatures\u001b[49m\u001b[43m[\u001b[49m\u001b[43mk\u001b[49m\u001b[43m]\u001b[49m\u001b[43m[\u001b[49m\u001b[38;5;124;43m'\u001b[39;49m\u001b[38;5;124;43mBlock\u001b[39;49m\u001b[38;5;124;43m'\u001b[39;49m\u001b[43m]\u001b[49m\u001b[43m \u001b[49m\u001b[38;5;241;43m==\u001b[39;49m\u001b[43m \u001b[49m\u001b[38;5;241;43m1\u001b[39;49m\u001b[43m \u001b[49m\u001b[38;5;129;43;01mand\u001b[39;49;00m\u001b[43m \u001b[49m\u001b[43mfeatures\u001b[49m\u001b[43m[\u001b[49m\u001b[43mk\u001b[49m\u001b[43m]\u001b[49m\u001b[43m[\u001b[49m\u001b[38;5;124;43m'\u001b[39;49m\u001b[38;5;124;43mCondition\u001b[39;49m\u001b[38;5;124;43m'\u001b[39;49m\u001b[43m]\u001b[49m\u001b[43m \u001b[49m\u001b[38;5;241;43m==\u001b[39;49m\u001b[43m \u001b[49m\u001b[38;5;241;43m1\u001b[39;49m\u001b[43m]\u001b[49m\n",
      "Cell \u001b[1;32mIn[20], line 1\u001b[0m, in \u001b[0;36m<listcomp>\u001b[1;34m(.0)\u001b[0m\n\u001b[1;32m----> 1\u001b[0m f \u001b[38;5;241m=\u001b[39m [\u001b[43mfeatures\u001b[49m\u001b[43m[\u001b[49m\u001b[43mk\u001b[49m\u001b[43m]\u001b[49m\u001b[43m[\u001b[49m\u001b[38;5;124;43m'\u001b[39;49m\u001b[38;5;124;43mMock_frequency\u001b[39;49m\u001b[38;5;124;43m'\u001b[39;49m\u001b[43m]\u001b[49m \u001b[38;5;28;01mfor\u001b[39;00m k \u001b[38;5;129;01min\u001b[39;00m \u001b[38;5;28mrange\u001b[39m(\u001b[38;5;28mlen\u001b[39m(features)) \u001b[38;5;28;01mif\u001b[39;00m features[k][\u001b[38;5;124m'\u001b[39m\u001b[38;5;124mBlock\u001b[39m\u001b[38;5;124m'\u001b[39m] \u001b[38;5;241m==\u001b[39m \u001b[38;5;241m1\u001b[39m \u001b[38;5;129;01mand\u001b[39;00m features[k][\u001b[38;5;124m'\u001b[39m\u001b[38;5;124mCondition\u001b[39m\u001b[38;5;124m'\u001b[39m] \u001b[38;5;241m==\u001b[39m \u001b[38;5;241m1\u001b[39m]\n",
      "\u001b[1;31mKeyError\u001b[0m: 'Mock_frequency'"
     ]
    }
   ],
   "source": [
    "#f = [features[k]['Mock_frequency'] for k in range(len(features)) if features[k]['Block'] == 1 and features[k]['Condition'] == 1]"
   ]
  },
  {
   "cell_type": "code",
   "execution_count": 19,
   "metadata": {},
   "outputs": [
    {
     "name": "stdout",
     "output_type": "stream",
     "text": [
      "59985\n"
     ]
    }
   ],
   "source": [
    "print(len(f))"
   ]
  },
  {
   "cell_type": "code",
   "execution_count": 13,
   "metadata": {},
   "outputs": [
    {
     "name": "stdout",
     "output_type": "stream",
     "text": [
      "7\n"
     ]
    }
   ],
   "source": [
    "print(len(res))"
   ]
  },
  {
   "cell_type": "code",
   "execution_count": 17,
   "metadata": {},
   "outputs": [],
   "source": [
    "session  = 'ALTAI_20240726_SESSION_01'\n",
    "path = 'Y:/eTheremin/clara/' + session + '/'\n",
    "data = np.load(path+'data_ss_0.005.npy', allow_pickle=True)\n",
    "path_features = 'Z:/eTheremin/ALTAI/' + session + '/headstage_0/'\n",
    "features = np.load(path_features+'features_0.005.npy', allow_pickle=True)\n",
    "gc = np.arange(len(data))"
   ]
  },
  {
   "cell_type": "code",
   "execution_count": 19,
   "metadata": {},
   "outputs": [
    {
     "data": {
      "text/plain": [
       "0"
      ]
     },
     "execution_count": 19,
     "metadata": {},
     "output_type": "execute_result"
    }
   ],
   "source": [
    "count = sum(1 for d in features if 'Mock_frequency' in d) # and 'Mock_change' in d)\n",
    "count"
   ]
  },
  {
   "cell_type": "code",
   "execution_count": 29,
   "metadata": {},
   "outputs": [],
   "source": [
    "def convert_dict(d):\n",
    "    \"\"\"\n",
    "    Convertit les valeurs d'un dictionnaire en types Python natifs:\n",
    "    - np.float64 -> int\n",
    "    - np.False_ / np.True_ -> bool\n",
    "    \"\"\"\n",
    "    # Utilisation de np.vectorize pour rendre les conversions plus rapides et vectorisées\n",
    "    for key, value in d.items():\n",
    "        if isinstance(value, np.float64):\n",
    "            d[key] = int(value)  # Conversion de np.float64 en int\n",
    "        elif isinstance(value, np.bool_):\n",
    "            d[key] = bool(value)  # Conversion de np.bool_ en bool\n",
    "    return d"
   ]
  },
  {
   "cell_type": "code",
   "execution_count": 6,
   "metadata": {},
   "outputs": [],
   "source": [
    "psth,label = get_psth_in_block(data, features,t_pre, t_post, bin_width, gc, 1,'tracking')"
   ]
  },
  {
   "cell_type": "code",
   "execution_count": 7,
   "metadata": {},
   "outputs": [
    {
     "name": "stdout",
     "output_type": "stream",
     "text": [
      "32 668 140 32 668 2\n"
     ]
    }
   ],
   "source": [
    "print(len(psth),len(psth[0]),len(psth[0][0]),len(label),len(label[0]),len(label[0][0]))"
   ]
  },
  {
   "cell_type": "code",
   "execution_count": 19,
   "metadata": {},
   "outputs": [
    {
     "name": "stdout",
     "output_type": "stream",
     "text": [
      "{'Played_frequency': np.float64(0.0), 'Condition': np.float64(-1.0), 'Block': np.float64(0.0), 'Frequency_changes': np.False_}\n"
     ]
    }
   ],
   "source": [
    "print(features[0])"
   ]
  },
  {
   "cell_type": "code",
   "execution_count": 12,
   "metadata": {},
   "outputs": [
    {
     "name": "stdout",
     "output_type": "stream",
     "text": [
      "37 918 140 37 918 2\n"
     ]
    }
   ],
   "source": [
    "#psths,labels = good_blocks('ALTAI_20240725_SESSION_00','tracking')\n",
    "print(len(psths),len(psths[0]),len(psths[0][0]),len(labels),len(labels[0]),len(labels[0][0]))"
   ]
  },
  {
   "cell_type": "code",
   "execution_count": null,
   "metadata": {},
   "outputs": [],
   "source": [
    "session = 'ALTAI_20240725_SESSION_00'\n",
    "path = 'Y:/eTheremin/clara/' + session + '/'\n",
    "data = np.load(path+'data_ss_0.005.npy', allow_pickle=True)\n",
    "path_features = 'Z:/eTheremin/ALTAI/' + session + '/headstage_0/'\n",
    "features = np.load(path_features+'features_0.005.npy', allow_pickle=True)\n",
    "count_with_mock = 0\n",
    "indices_without_mock = []\n",
    "\n",
    "for index, d in enumerate(features):\n",
    "    if 'Mock_frequency' in d:\n",
    "        count_with_mock += 1\n",
    "    else:\n",
    "        indices_without_mock.append(index)"
   ]
  },
  {
   "cell_type": "code",
   "execution_count": 11,
   "metadata": {},
   "outputs": [
    {
     "name": "stdout",
     "output_type": "stream",
     "text": [
      "841911 841911 0\n"
     ]
    }
   ],
   "source": [
    "print(count_with_mock,len(features),len(indices_without_mock))"
   ]
  },
  {
   "cell_type": "code",
   "execution_count": null,
   "metadata": {},
   "outputs": [],
   "source": [
    "session = 'ALTAI_20240814_SESSION_00'\n",
    "\n",
    "\n",
    "# Récupérer les données de \"playback\"\n",
    "psths_playback, labels_playback, gc = good_blocks(session, 'playback',617)   #[530,730]\n",
    "res_pbl, mean_accuracies_per_bin_pbl,accuracies_pbl, pbl = KNN(session, 'playback', psths_playback, labels_playback, gc)\n",
    "\n",
    "# Récupérer les données de \"tracking\"\n",
    "psths_tracking, labels_tracking, gc = good_blocks(session, 'tracking',617)\n",
    "res_tra, mean_accuracies_per_bin_tra, accuracies_tra, tra = KNN(session, 'tracking', psths_tracking, labels_tracking, gc)"
   ]
  },
  {
   "cell_type": "code",
   "execution_count": 29,
   "metadata": {},
   "outputs": [],
   "source": [
    "frequences = [[190,256],[296,398],[460,618],[715,960],[1111,1491],[1727,2318],\n",
    "              [2684,3602],[4172,5599],[6484,8702],[10079,13526],[15667,21025]]\n"
   ]
  },
  {
   "cell_type": "code",
   "execution_count": 34,
   "metadata": {},
   "outputs": [
    {
     "name": "stderr",
     "output_type": "stream",
     "text": [
      "Exception ignored in: <bound method IPythonKernel._clean_thread_parent_frames of <ipykernel.ipkernel.IPythonKernel object at 0x0000018AC5935850>>\n",
      "Traceback (most recent call last):\n",
      "  File \"c:\\Users\\Utilisateur\\miniconda3\\envs\\neuro\\Lib\\site-packages\\ipykernel\\ipkernel.py\", line 775, in _clean_thread_parent_frames\n",
      "    def _clean_thread_parent_frames(\n",
      "\n",
      "KeyboardInterrupt: \n"
     ]
    },
    {
     "ename": "KeyboardInterrupt",
     "evalue": "",
     "output_type": "error",
     "traceback": [
      "\u001b[1;31m---------------------------------------------------------------------------\u001b[0m",
      "\u001b[1;31mKeyboardInterrupt\u001b[0m                         Traceback (most recent call last)",
      "Cell \u001b[1;32mIn[34], line 6\u001b[0m\n\u001b[0;32m      4\u001b[0m \u001b[38;5;28;01mfor\u001b[39;00m \u001b[38;5;28mtype\u001b[39m \u001b[38;5;129;01min\u001b[39;00m [\u001b[38;5;124m'\u001b[39m\u001b[38;5;124mtracking\u001b[39m\u001b[38;5;124m'\u001b[39m,\u001b[38;5;124m'\u001b[39m\u001b[38;5;124mplayback\u001b[39m\u001b[38;5;124m'\u001b[39m]:\n\u001b[0;32m      5\u001b[0m     \u001b[38;5;28;01mfor\u001b[39;00m freq \u001b[38;5;129;01min\u001b[39;00m frequences:\n\u001b[1;32m----> 6\u001b[0m         psths,labels,gc,label,label_transpose \u001b[38;5;241m=\u001b[39m \u001b[43mgood_blocks\u001b[49m\u001b[43m(\u001b[49m\u001b[43msession\u001b[49m\u001b[43m,\u001b[49m\u001b[38;5;28;43mtype\u001b[39;49m\u001b[43m,\u001b[49m\u001b[43mfreq\u001b[49m\u001b[43m)\u001b[49m\n\u001b[0;32m      7\u001b[0m         \u001b[38;5;28;01mif\u001b[39;00m labels \u001b[38;5;241m!=\u001b[39m []:\n\u001b[0;32m      8\u001b[0m             \u001b[38;5;28mprint\u001b[39m(\u001b[38;5;28mlen\u001b[39m(label_transpose),\u001b[38;5;28mlen\u001b[39m(label_transpose[\u001b[38;5;241m0\u001b[39m]),\u001b[38;5;28mlen\u001b[39m(label_transpose[\u001b[38;5;241m0\u001b[39m][\u001b[38;5;241m0\u001b[39m]))\n",
      "Cell \u001b[1;32mIn[27], line 11\u001b[0m, in \u001b[0;36mgood_blocks\u001b[1;34m(session, type, frequency)\u001b[0m\n\u001b[0;32m      9\u001b[0m labels \u001b[38;5;241m=\u001b[39m []\n\u001b[0;32m     10\u001b[0m \u001b[38;5;28;01mfor\u001b[39;00m block \u001b[38;5;129;01min\u001b[39;00m blocks:\n\u001b[1;32m---> 11\u001b[0m     psth,label \u001b[38;5;241m=\u001b[39m \u001b[43mget_psth_in_block\u001b[49m\u001b[43m(\u001b[49m\u001b[43mdata\u001b[49m\u001b[43m,\u001b[49m\u001b[43m \u001b[49m\u001b[43mfeatures\u001b[49m\u001b[43m,\u001b[49m\u001b[43mt_pre\u001b[49m\u001b[43m,\u001b[49m\u001b[43m \u001b[49m\u001b[43mt_post\u001b[49m\u001b[43m,\u001b[49m\u001b[43m \u001b[49m\u001b[43mbin_width\u001b[49m\u001b[43m,\u001b[49m\u001b[43m \u001b[49m\u001b[43mgc\u001b[49m\u001b[43m,\u001b[49m\u001b[43m \u001b[49m\u001b[43mblock\u001b[49m\u001b[43m,\u001b[49m\u001b[43m \u001b[49m\u001b[38;5;28;43mtype\u001b[39;49m\u001b[43m,\u001b[49m\u001b[43m \u001b[49m\u001b[43mfrequency\u001b[49m\u001b[43m)\u001b[49m\n\u001b[0;32m     12\u001b[0m     psth_transpose \u001b[38;5;241m=\u001b[39m np\u001b[38;5;241m.\u001b[39mmoveaxis(psth, \u001b[38;5;241m1\u001b[39m, \u001b[38;5;241m0\u001b[39m) \u001b[38;5;66;03m#(4104, 33, 2)\u001b[39;00m\n\u001b[0;32m     13\u001b[0m     label_transpose \u001b[38;5;241m=\u001b[39m np\u001b[38;5;241m.\u001b[39mmoveaxis(label, \u001b[38;5;241m1\u001b[39m, \u001b[38;5;241m0\u001b[39m)\n",
      "File \u001b[1;32mc:\\Users\\Utilisateur\\Documents\\CESURE\\NEURO ULM\\code\\analysebingobike\\utils.py:160\u001b[0m, in \u001b[0;36mget_psth_in_block\u001b[1;34m(data, features, t_pre, t_post, bin_width, good_clusters, block, condition, frequency)\u001b[0m\n\u001b[0;32m    158\u001b[0m \u001b[38;5;28;01melse\u001b[39;00m : \n\u001b[0;32m    159\u001b[0m     bool_freq \u001b[38;5;241m=\u001b[39m \u001b[38;5;28;01mTrue\u001b[39;00m\n\u001b[1;32m--> 160\u001b[0m \u001b[38;5;28;01mif\u001b[39;00m \u001b[38;5;28mbin\u001b[39m\u001b[38;5;241m-\u001b[39m\u001b[38;5;28mint\u001b[39m(t_pre\u001b[38;5;241m/\u001b[39mbin_width)\u001b[38;5;241m>\u001b[39m\u001b[38;5;241m0\u001b[39m \u001b[38;5;129;01mand\u001b[39;00m \u001b[38;5;28mbin\u001b[39m\u001b[38;5;241m+\u001b[39m\u001b[38;5;28;43mint\u001b[39;49m\u001b[43m(\u001b[49m\u001b[43mt_post\u001b[49m\u001b[38;5;241;43m/\u001b[39;49m\u001b[43mbin_width\u001b[49m\u001b[43m)\u001b[49m\u001b[38;5;241m<\u001b[39m\u001b[38;5;28mlen\u001b[39m(features) \u001b[38;5;129;01mand\u001b[39;00m \u001b[38;5;28mbin\u001b[39m\u001b[38;5;241m+\u001b[39m\u001b[38;5;241m1\u001b[39m\u001b[38;5;241m<\u001b[39m\u001b[38;5;28mlen\u001b[39m(features):\n\u001b[0;32m    161\u001b[0m     \u001b[38;5;28;01mif\u001b[39;00m features[\u001b[38;5;28mbin\u001b[39m][\u001b[38;5;124m'\u001b[39m\u001b[38;5;124mBlock\u001b[39m\u001b[38;5;124m'\u001b[39m]\u001b[38;5;241m==\u001b[39mblock \u001b[38;5;129;01mand\u001b[39;00m features[\u001b[38;5;28mbin\u001b[39m\u001b[38;5;241m-\u001b[39m\u001b[38;5;241m1\u001b[39m][\u001b[38;5;124m'\u001b[39m\u001b[38;5;124mBlock\u001b[39m\u001b[38;5;124m'\u001b[39m]\u001b[38;5;241m==\u001b[39mblock:\n\u001b[0;32m    162\u001b[0m         \u001b[38;5;28;01mif\u001b[39;00m change \u001b[38;5;129;01mand\u001b[39;00m features[\u001b[38;5;28mbin\u001b[39m][\u001b[38;5;124m'\u001b[39m\u001b[38;5;124mCondition\u001b[39m\u001b[38;5;124m'\u001b[39m]\u001b[38;5;241m==\u001b[39mc \u001b[38;5;129;01mand\u001b[39;00m bool_freq:\n",
      "\u001b[1;31mKeyboardInterrupt\u001b[0m: "
     ]
    }
   ],
   "source": [
    "sessions = ['ALTAI_20240822_SESSION_00']\n",
    "data = []           \n",
    "for session in sessions:\n",
    "    for type in ['tracking','playback']:\n",
    "        for freq in frequences:\n",
    "            psths,labels,gc,label,label_transpose = good_blocks(session,type,freq)\n",
    "            if labels != []:\n",
    "                print(len(label_transpose),len(label_transpose[0]),len(label_transpose[0][0]))\n",
    "                l1 = [labels[k][0][0] for k in range(len(labels))]\n",
    "                d1 = dict(Counter(l1))  \n",
    "                print(d1)\n",
    "                min_value = min(d1[0],d1[1])\n",
    "                print(min_value)\n",
    "                if min_value > 100:\n",
    "                    res,mean_accuracies_per_bin, accuracies, condition = KNN(session,type,psths,labels,gc)\n",
    "                    print(\"res[1]:\", res[1])\n",
    "                    print(\"res[2]:\", res[2])\n",
    "                    z = (res[1] - 0.5) / res[2]  \n",
    "                    p_value = 1 - stats.norm.cdf(z) \n",
    "                    res.append(p_value)\n",
    "                    res.append(freq)\n",
    "                    print(res)\n",
    "                else :\n",
    "                    res = [session,None,None,None,type,None,freq]\n",
    "            else :\n",
    "                res = [session,None,None,None,type,None,freq]\n",
    "            data.extend(res)"
   ]
  },
  {
   "cell_type": "code",
   "execution_count": 12,
   "metadata": {},
   "outputs": [
    {
     "name": "stdout",
     "output_type": "stream",
     "text": [
      "32 0\n"
     ]
    }
   ],
   "source": [
    "print(len(label),len(label[0]))"
   ]
  },
  {
   "cell_type": "code",
   "execution_count": 18,
   "metadata": {},
   "outputs": [
    {
     "name": "stdout",
     "output_type": "stream",
     "text": [
      "[['ALTAI_20240822_SESSION_00', np.float64(0.5071666666666667), 0, 'tracking'], ['ALTAI_20240822_SESSION_00', np.float64(0.5027222222222223), 1, 'tracking'], ['ALTAI_20240822_SESSION_00', np.float64(0.5154444444444445), 2, 'tracking'], ['ALTAI_20240822_SESSION_00', np.float64(0.5386666666666666), 3, 'tracking'], ['ALTAI_20240822_SESSION_00', np.float64(0.4991666666666667), 4, 'tracking'], ['ALTAI_20240822_SESSION_00', np.float64(0.499), 5, 'tracking'], ['ALTAI_20240822_SESSION_00', np.float64(0.5210555555555555), 6, 'tracking'], ['ALTAI_20240822_SESSION_00', np.float64(0.9924444444444444), 0, 'playback'], ['ALTAI_20240822_SESSION_00', np.float64(0.9924444444444444), 1, 'playback'], ['ALTAI_20240822_SESSION_00', np.float64(0.9924444444444444), 2, 'playback'], ['ALTAI_20240822_SESSION_00', np.float64(0.9924444444444444), 3, 'playback'], ['ALTAI_20240822_SESSION_00', np.float64(0.9924444444444444), 4, 'playback'], ['ALTAI_20240822_SESSION_00', np.float64(0.9924444444444444), 5, 'playback'], ['ALTAI_20240822_SESSION_00', np.float64(0.9924444444444444), 6, 'playback']]\n"
     ]
    }
   ],
   "source": [
    "print(data)"
   ]
  },
  {
   "cell_type": "code",
   "execution_count": null,
   "metadata": {},
   "outputs": [],
   "source": [
    "#ar = numpy.array([[1.1, 2, 3.3, 4], [2.7, 10, 5.4, 7], [5.3, 9, 1.5, 15]])\n",
    "df = pd.DataFrame(data, columns = ['session', 'mean_accuracy', 'std_accuracy','bin','type'])"
   ]
  },
  {
   "cell_type": "code",
   "execution_count": null,
   "metadata": {},
   "outputs": [],
   "source": [
    "mean_accuracy = np.mean(accuracies)\n",
    "std_accuracy = np.std(accuracies)\n",
    "n = len(accuracies)\n",
    "\n",
    "# Calculer la valeur z pour la moyenne d'accuracy\n",
    "z = (mean_accuracy - 0.5) / std_accuracy  # 0.5 est la moyenne sous l'hypothèse nulle\n",
    "\n",
    "# Calculer la p-value\n",
    "p_value = 1 - stats.norm.cdf(z)  # P(Z >= z)\n",
    "confidence_interval = stats.norm.interval(0.95, loc=mean_accuracy, scale=std_accuracy / np.sqrt(n))\n",
    "\n",
    "\n",
    "print(f\"Moyenne de l'accuracy : {mean_accuracy}\")\n",
    "print(f\"Écart-type de l'accuracy : {std_accuracy}\")\n",
    "print(f\"p-value : {p_value}\")\n",
    "print(f\"Intervalle de confiance à 95 % : {confidence_interval}\")"
   ]
  },
  {
   "cell_type": "code",
   "execution_count": 20,
   "metadata": {},
   "outputs": [
    {
     "data": {
      "text/plain": [
       "<Axes: xlabel='type', ylabel='accuracy'>"
      ]
     },
     "execution_count": 20,
     "metadata": {},
     "output_type": "execute_result"
    },
    {
     "data": {
      "image/png": "[encoded data removed]",
      "text/plain": [
       "<Figure size 640x480 with 1 Axes>"
      ]
     },
     "metadata": {},
     "output_type": "display_data"
    }
   ],
   "source": [
    "sns.violinplot(data=df, x='type', y='accuracy', split=True)  #hue='bin'"
   ]
  }
 ],
 "metadata": {
  "kernelspec": {
   "display_name": "neuro",
   "language": "python",
   "name": "python3"
  },
  "language_info": {
   "codemirror_mode": {
    "name": "ipython",
    "version": 3
   },
   "file_extension": ".py",
   "mimetype": "text/x-python",
   "name": "python",
   "nbconvert_exporter": "python",
   "pygments_lexer": "ipython3",
   "version": "3.11.9"
  }
 },
 "nbformat": 4,
 "nbformat_minor": 2
}
