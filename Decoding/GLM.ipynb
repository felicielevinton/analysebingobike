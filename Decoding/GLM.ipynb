{
 "cells": [
  {
   "cell_type": "code",
   "execution_count": 1,
   "metadata": {},
   "outputs": [],
   "source": [
    "import sys\n",
    "import os\n",
    "sys.path.append(os.path.abspath('..')) \n",
    "\n",
    "from utils import *\n",
    "import matplotlib.pyplot as plt\n",
    "\n",
    "t_pre = 0.5#0.2\n",
    "t_post = 0.50#0.300\n",
    "bin_width = 0.005\n",
    "# Créer les bins de temps\"\n",
    "psth_bins = np.arange(-t_pre, t_post, bin_width)\n"
   ]
  },
  {
   "cell_type": "code",
   "execution_count": 6,
   "metadata": {},
   "outputs": [],
   "source": [
    "playback_sessions = ['ALTAI_20240724_SESSION_01', 'ALTAI_20240724_SESSION_02', 'ALTAI_20240725_SESSION_00', 'ALTAI_20240726_SESSION_01',\n",
    "                           'ALTAI_20240809_SESSION_00', 'ALTAI_20240814_SESSION_00', 'ALTAI_20240822_SESSION_00']\n",
    "tracking_psth, playback_psth = [], []\n",
    "\n",
    "for session in playback_sessions:\n",
    "    path = '/Volumes/data2/eTheremin/ALTAI/'+ session + '/'\n",
    "    tracking_psth.append(np.load(path+f'psth_tracking_{bin_width}.npy'))\n",
    "    playback_psth.append(np.load(path+f'psth_playback_{bin_width}.npy'))"
   ]
  },
  {
   "cell_type": "code",
   "execution_count": 8,
   "metadata": {},
   "outputs": [],
   "source": [
    "tr_psth = np.vstack(tracking_psth)\n",
    "pb_psth = np.vstack(playback_psth)\n"
   ]
  },
  {
   "cell_type": "code",
   "execution_count": 17,
   "metadata": {},
   "outputs": [],
   "source": [
    "# for each psth calculer les features\n",
    "tr_sustained = [get_sustained_activity(psth, t_pre, t_post, bin_width) for psth in tr_psth]\n",
    "pb_sustained = [get_sustained_activity(psth, t_pre, t_post, bin_width) for psth in pb_psth]\n",
    "\n",
    "tr_total_evoked = get_total_evoked_response(tr_psth, t_pre, t_post, bin_width, None, 0, 140)\n",
    "pb_total_evoked = get_total_evoked_response(pb_psth, t_pre, t_post, bin_width, None, 0, 140)\n",
    "\n",
    "tr_peak = [tr_total_evoked[i] - tr_sustained[i] for i in range(len(tr_sustained))]\n",
    "pb_peak = [pb_total_evoked[i] - pb_sustained[i] for i in range(len(pb_sustained))]\n"
   ]
  },
  {
   "cell_type": "code",
   "execution_count": 23,
   "metadata": {},
   "outputs": [],
   "source": [
    "X_tr = np.column_stack((tr_sustained, tr_total_evoked, tr_peak))\n",
    "X_pb = np.column_stack((pb_sustained, pb_total_evoked, pb_peak))\n",
    "y_tr = np.zeros(len(X_tr))\n",
    "y_pb = np.ones(len(X_pb))"
   ]
  },
  {
   "cell_type": "code",
   "execution_count": 25,
   "metadata": {},
   "outputs": [],
   "source": [
    "X = np.vstack((X_tr, X_pb))\n",
    "y = np.hstack((y_tr, y_pb))"
   ]
  },
  {
   "cell_type": "code",
   "execution_count": 30,
   "metadata": {},
   "outputs": [
    {
     "name": "stdout",
     "output_type": "stream",
     "text": [
      "Accuracy: 0.64\n",
      "Confusion Matrix:\n",
      "[[27 19]\n",
      " [12 27]]\n"
     ]
    },
    {
     "data": {
      "image/png": "[encoded data removed]",
      "text/plain": [
       "<Figure size 800x600 with 1 Axes>"
      ]
     },
     "metadata": {},
     "output_type": "display_data"
    }
   ],
   "source": [
    "# Importation des bibliothèques nécessaires\n",
    "import numpy as np\n",
    "from sklearn.model_selection import train_test_split\n",
    "from sklearn.linear_model import LogisticRegression\n",
    "from sklearn.metrics import accuracy_score, confusion_matrix\n",
    "import matplotlib.pyplot as plt\n",
    "import seaborn as sns\n",
    "\n",
    "\n",
    "# Étape 2: Diviser les données en ensemble d'entraînement et de test\n",
    "X_train, X_test, y_train, y_test = train_test_split(X, y, test_size=0.2, random_state=42)\n",
    "\n",
    "# Étape 3: Créer le modèle de régression logistique\n",
    "model = LogisticRegression()\n",
    "\n",
    "# Entraîner le modèle sur les données d'entraînement\n",
    "model.fit(X_train, y_train)\n",
    "\n",
    "# Étape 4: Prédire les étiquettes pour les données de test\n",
    "y_pred = model.predict(X_test)\n",
    "\n",
    "# Calculer la précision du modèle\n",
    "accuracy = accuracy_score(y_test, y_pred)\n",
    "print(f\"Accuracy: {accuracy:.2f}\")\n",
    "\n",
    "# Calculer la matrice de confusion\n",
    "conf_matrix = confusion_matrix(y_test, y_pred)\n",
    "print(\"Confusion Matrix:\")\n",
    "print(conf_matrix)\n",
    "\n",
    "# Étape 5: Visualiser la matrice de confusion avec Matplotlib et Seaborn\n",
    "plt.figure(figsize=(8, 6))\n",
    "sns.heatmap(conf_matrix, annot=True, fmt=\"d\", cmap=\"Blues\", cbar=False,\n",
    "            xticklabels=['Tracking', 'Playback'], yticklabels=['Tracking', 'Playback'])\n",
    "plt.xlabel(\"Prédictions\")\n",
    "plt.ylabel(\"Vérités\")\n",
    "plt.title(\"Matrice de Confusion\")\n",
    "plt.show()\n",
    "\n"
   ]
  },
  {
   "cell_type": "code",
   "execution_count": null,
   "metadata": {},
   "outputs": [],
   "source": []
  }
 ],
 "metadata": {
  "kernelspec": {
   "display_name": "Python 3",
   "language": "python",
   "name": "python3"
  },
  "language_info": {
   "codemirror_mode": {
    "name": "ipython",
    "version": 3
   },
   "file_extension": ".py",
   "mimetype": "text/x-python",
   "name": "python",
   "nbconvert_exporter": "python",
   "pygments_lexer": "ipython3",
   "version": "3.9.6"
  }
 },
 "nbformat": 4,
 "nbformat_minor": 2
}
