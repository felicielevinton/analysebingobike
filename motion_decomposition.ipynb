{
 "cells": [
  {
   "cell_type": "code",
   "execution_count": 1,
   "metadata": {},
   "outputs": [],
   "source": [
    "import matplotlib.pyplot as plt\n",
    "import pandas as pd\n",
    "import csv\n",
    "import os\n",
    "import scipy.io\n",
    "import json\n",
    "import numpy as np\n",
    "from format_data import *\n",
    "from utils import *\n",
    "import pickle\n",
    "import math\n",
    "from delta_frequency import *\n",
    "\n",
    "t_pre = 0.5#0.2\n",
    "t_post = 0.50#0.300\n",
    "bin_width = 0.005\n",
    "# Créer les bins de temps\"\n",
    "psth_bins = np.arange(-t_pre, t_post, bin_width)"
   ]
  },
  {
   "cell_type": "code",
   "execution_count": 2,
   "metadata": {},
   "outputs": [],
   "source": [
    "session = '/MUROLS_20230224/MUROLS_20230224_SESSION_00'\n",
    "path = '/Volumes/data2/eTheremin/MUROLS/'+ session + '/'\n"
   ]
  }
 ],
 "metadata": {
  "kernelspec": {
   "display_name": "Python 3",
   "language": "python",
   "name": "python3"
  },
  "language_info": {
   "codemirror_mode": {
    "name": "ipython",
    "version": 3
   },
   "file_extension": ".py",
   "mimetype": "text/x-python",
   "name": "python",
   "nbconvert_exporter": "python",
   "pygments_lexer": "ipython3",
   "version": "3.9.6"
  }
 },
 "nbformat": 4,
 "nbformat_minor": 2
}
