{
 "cells": [
  {
   "cell_type": "code",
<<<<<<< HEAD
<<<<<<< HEAD
   "execution_count": 78,
=======
   "execution_count": 85,
>>>>>>> 283d6daf (pôsitions)
=======
   "execution_count": 2,
>>>>>>> b1bfb22d (new tt)
   "metadata": {},
   "outputs": [],
   "source": [
    "from kneed import DataGenerator, KneeLocator\n",
    "import matplotlib.pyplot as plt\n",
    "import pandas as pd\n",
    "import csv\n",
    "import os\n",
    "import scipy.io\n",
    "from scipy.signal import find_peaks\n",
    "import json\n",
    "import numpy as np\n",
    "import pickle\n",
    "import resync as rs\n",
<<<<<<< HEAD
    "from testing import *\n",
=======
    "from mapping import *\n",
<<<<<<< HEAD
>>>>>>> 283d6daf (pôsitions)
=======
    "from test import *\n",
    "\n",
>>>>>>> b1bfb22d (new tt)
    "\n",
    "fs = 160"
   ]
  },
  {
   "cell_type": "code",
<<<<<<< HEAD
<<<<<<< HEAD
   "execution_count": 79,
   "metadata": {},
   "outputs": [],
   "source": [
    "session = 'ALTAI_20240822_SESSION_00'\n",
    "path = '/Volumes/data2/eTheremin/ALTAI/'+ session + '/positions'\n",
    "folder = '/Volumes/data2/eTheremin/ALTAI/'+ session +'/'"
=======
   "execution_count": 86,
=======
   "execution_count": 3,
>>>>>>> b1bfb22d (new tt)
   "metadata": {},
   "outputs": [],
   "source": [
    "session = 'ALTAI_20240822_SESSION_00'\n",
    "path = '/auto/data2/eTheremin/ALTAI/'+ session + '/positions'"
>>>>>>> 283d6daf (pôsitions)
   ]
  },
  {
   "cell_type": "code",
<<<<<<< HEAD
<<<<<<< HEAD
   "execution_count": 80,
=======
   "execution_count": 87,
>>>>>>> 283d6daf (pôsitions)
=======
   "execution_count": 4,
>>>>>>> b1bfb22d (new tt)
   "metadata": {},
   "outputs": [],
   "source": [
    "folder = '/auto/data2/eTheremin/ALTAI/'+ session +'/'\n",
    "\n",
    "#data = np.load(folder+'headstage_0/data_0.005.npy', allow_pickle=True)\n",
<<<<<<< HEAD
    "features_ = np.load(folder+'headstage_0/features_0.005.npy', allow_pickle=True)\n",
    "#gc = np.load(folder+'headstage_0/good_clusters.npy', allow_pickle=True) \n",
    "\n"
=======
    "features = np.load(folder+'headstage_0/features_0.005.npy', allow_pickle=True)\n",
    "#gc = np.load(folder+'headstage_0/good_clusters.npy', allow_pickle=True) \n",
    "unique_tones = np.load(folder+'headstage_0/unique_tones.npy', allow_pickle=True)"
>>>>>>> b1bfb22d (new tt)
   ]
  },
  {
   "cell_type": "code",
<<<<<<< HEAD
<<<<<<< HEAD
   "execution_count": 81,
=======
   "execution_count": 88,
>>>>>>> 283d6daf (pôsitions)
=======
   "execution_count": 5,
   "metadata": {},
   "outputs": [],
   "source": [
    "import pickle\n",
    "\n",
    "# Path to your .pkl file\n",
    "file_path = folder + 'headstage_0/tt.pkl'\n",
    "\n",
    "# Load the pickle file\n",
    "with open(file_path, \"rb\") as file:\n",
    "    tt = pickle.load(file)"
   ]
  },
  {
   "cell_type": "code",
   "execution_count": 6,
   "metadata": {},
   "outputs": [
    {
     "ename": "NameError",
     "evalue": "name 'create_tt_v' is not defined",
     "output_type": "error",
     "traceback": [
      "\u001b[0;31m---------------------------------------------------------------------------\u001b[0m",
      "\u001b[0;31mNameError\u001b[0m                                 Traceback (most recent call last)",
      "Cell \u001b[0;32mIn[6], line 1\u001b[0m\n\u001b[0;32m----> 1\u001b[0m features \u001b[38;5;241m=\u001b[39m \u001b[43mcreate_tt_v\u001b[49m(tt)\n",
      "\u001b[0;31mNameError\u001b[0m: name 'create_tt_v' is not defined"
     ]
    }
   ],
   "source": [
    "features = create_tt_v(tt)"
   ]
  },
  {
   "cell_type": "code",
   "execution_count": 39,
>>>>>>> b1bfb22d (new tt)
   "metadata": {},
   "outputs": [],
   "source": [
    "import pickle\n",
    "\n",
    "# Replace 'your_file.pkl' with the path to your pickle file\n",
    "file_path = folder + 'headstage_0/tt.pkl'\n",
    "\n",
    "with open(file_path, 'rb') as file:\n",
    "    tt = pickle.load(file)"
   ]
  },
  {
   "cell_type": "code",
<<<<<<< HEAD
<<<<<<< HEAD
   "execution_count": 82,
=======
   "execution_count": 89,
>>>>>>> 283d6daf (pôsitions)
=======
   "execution_count": 40,
>>>>>>> b1bfb22d (new tt)
   "metadata": {},
   "outputs": [
    {
     "name": "stdout",
     "output_type": "stream",
     "text": [
<<<<<<< HEAD
<<<<<<< HEAD
      "[-1  0  1]\n"
     ]
    }
   ],
   "source": [
    "print(np.unique(tt['condition']))"
   ]
  },
  {
   "cell_type": "code",
   "execution_count": 83,
   "metadata": {},
   "outputs": [
    {
     "data": {
      "text/plain": [
       "[<matplotlib.lines.Line2D at 0x2cb87c040>]"
      ]
     },
     "execution_count": 83,
     "metadata": {},
     "output_type": "execute_result"
    },
    {
     "data": {
      "image/png": "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",
      "text/plain": [
       "<Figure size 640x480 with 1 Axes>"
      ]
     },
     "metadata": {},
     "output_type": "display_data"
    }
   ],
   "source": [
    "plt.plot(tt['condition'])"
   ]
  },
  {
   "cell_type": "code",
   "execution_count": 84,
   "metadata": {},
   "outputs": [],
   "source": [
    "# Replace 'your_file.pkl' with the path to your pickle file\n",
    "file_path = folder + 'headstage_0/features.pkl'\n",
    "\n",
    "with open(file_path, 'rb') as file:\n",
    "    features = pickle.load(file)"
   ]
  },
  {
   "cell_type": "code",
   "execution_count": 85,
   "metadata": {},
   "outputs": [
    {
     "name": "stdout",
     "output_type": "stream",
     "text": [
      "{'0_to_1': [60898, 117092, 240724, 360120, 480851, 601021, 720684], '1_to_0': [897, 177091, 300725, 420119, 540907, 660910], 'new block': [60898, 117092, 240724, 360120, 480851, 601021, 720684]}\n"
     ]
    }
   ],
   "source": [
    "def find_condition_transitions(features):\n",
    "    conditions = [elt['Condition'] for elt in features]\n",
    "    block = [elt['Block'] for elt in features]\n",
    "    transitions = np.diff(np.array(conditions, dtype=int))\n",
    "    transitions_block = np.diff(np.array(block, dtype=int))\n",
    "\n",
    "    # Trouver les indices de transition\n",
    "    indices_0_to_1 = np.where(transitions == 1)[0] + 1  # Transition de 0 à 1\n",
    "    indices_1_to_0 = np.where(transitions == -1)[0] + 1  # Transition de 1 à 0\n",
    "    indices_block = np.where(transitions == 1)[0] + 1\n",
    "\n",
    "    return {\n",
    "        '0_to_1': indices_0_to_1.tolist(),\n",
    "        '1_to_0': indices_1_to_0.tolist(),\n",
    "        'new block': indices_block.tolist(),\n",
    "    }\n",
    "\n",
    "transitions = find_condition_transitions(features_)\n",
    "print(transitions)"
   ]
  },
  {
   "cell_type": "code",
   "execution_count": 97,
   "metadata": {},
   "outputs": [
    {
     "data": {
      "text/plain": [
       "{'0_to_1': [60898, 117092, 240724, 360120, 480851, 601021, 720684],\n",
       " '1_to_0': [897, 177091, 300725, 420119, 540907, 660910],\n",
       " 'new block': [60898, 117092, 240724, 360120, 480851, 601021, 720684]}"
      ]
     },
     "execution_count": 97,
     "metadata": {},
     "output_type": "execute_result"
    }
   ],
   "source": [
    "transitions\n"
   ]
  },
  {
   "cell_type": "code",
   "execution_count": 100,
   "metadata": {},
   "outputs": [
    {
     "name": "stdout",
     "output_type": "stream",
     "text": [
      "[{'Played_frequency': 3109.0, 'Condition': -1.0, 'Block': 0.0, 'Frequency_changes': False, 'Mock_frequency': 0.0, 'Mock_change': False}\n",
      " {'Played_frequency': 3109.0, 'Condition': -1.0, 'Block': 0.0, 'Frequency_changes': False, 'Mock_frequency': 0.0, 'Mock_change': False}\n",
      " {'Played_frequency': 3601.0, 'Condition': 0.0, 'Block': 1.0, 'Frequency_changes': True, 'Mock_frequency': 0.0, 'Mock_change': False}\n",
      " {'Played_frequency': 3601.0, 'Condition': 0.0, 'Block': 1.0, 'Frequency_changes': False, 'Mock_frequency': 0.0, 'Mock_change': False}]\n"
     ]
    }
   ],
   "source": [
    "print(features_[60898-2:60898+2])"
   ]
  },
  {
   "cell_type": "code",
   "execution_count": 102,
   "metadata": {},
   "outputs": [
    {
     "data": {
      "text/plain": [
       "837827"
      ]
     },
     "execution_count": 102,
     "metadata": {},
     "output_type": "execute_result"
    }
   ],
   "source": [
    "len(features)\n"
   ]
  },
  {
   "cell_type": "code",
   "execution_count": 91,
   "metadata": {},
   "outputs": [
    {
     "name": "stdout",
     "output_type": "stream",
     "text": [
      "['positions_playback_01_ALTAI_SESSION_00_20240822.bin', 'positions_playback_02_ALTAI_SESSION_00_20240822.bin', 'positions_playback_03_ALTAI_SESSION_00_20240822.bin', 'positions_playback_06_ALTAI_SESSION_00_20240822.bin', 'positions_playback_04_ALTAI_SESSION_00_20240822.bin', 'positions_playback_05_ALTAI_SESSION_00_20240822.bin', 'positions_tail_07_ALTAI_SESSION_00_20240822.bin', 'positions_tail_00_ALTAI_SESSION_00_20240822.bin', 'positions_tracking_01_ALTAI_SESSION_00_20240822.bin', 'positions_tracking_02_ALTAI_SESSION_00_20240822.bin', 'positions_tracking_03_ALTAI_SESSION_00_20240822.bin', 'positions_tracking_04_ALTAI_SESSION_00_20240822.bin', 'positions_tracking_05_ALTAI_SESSION_00_20240822.bin', 'positions_tracking_06_ALTAI_SESSION_00_20240822.bin']\n"
=======
      "['positions_playback_01_ALTAI_SESSION_00_20240807.bin', 'positions_playback_02_ALTAI_SESSION_00_20240807.bin', 'positions_playback_03_ALTAI_SESSION_00_20240807.bin', 'positions_playback_04_ALTAI_SESSION_00_20240807.bin', 'positions_playback_05_ALTAI_SESSION_00_20240807.bin', 'positions_playback_06_ALTAI_SESSION_00_20240807.bin', 'positions_tail_00_ALTAI_SESSION_00_20240807.bin', 'positions_tail_07_ALTAI_SESSION_00_20240807.bin', 'positions_tracking_01_ALTAI_SESSION_00_20240807.bin', 'positions_tracking_02_ALTAI_SESSION_00_20240807.bin', 'positions_tracking_03_ALTAI_SESSION_00_20240807.bin', 'positions_tracking_04_ALTAI_SESSION_00_20240807.bin', 'positions_tracking_05_ALTAI_SESSION_00_20240807.bin', 'positions_tracking_06_ALTAI_SESSION_00_20240807.bin']\n"
>>>>>>> 283d6daf (pôsitions)
=======
      "['positions_playback_01_ALTAI_SESSION_00_20240822.bin', 'positions_playback_02_ALTAI_SESSION_00_20240822.bin', 'positions_playback_03_ALTAI_SESSION_00_20240822.bin', 'positions_playback_06_ALTAI_SESSION_00_20240822.bin', 'positions_playback_04_ALTAI_SESSION_00_20240822.bin', 'positions_playback_05_ALTAI_SESSION_00_20240822.bin', 'positions_tail_07_ALTAI_SESSION_00_20240822.bin', 'positions_tail_00_ALTAI_SESSION_00_20240822.bin', 'positions_tracking_01_ALTAI_SESSION_00_20240822.bin', 'positions_tracking_02_ALTAI_SESSION_00_20240822.bin', 'positions_tracking_03_ALTAI_SESSION_00_20240822.bin', 'positions_tracking_04_ALTAI_SESSION_00_20240822.bin', 'positions_tracking_05_ALTAI_SESSION_00_20240822.bin', 'positions_tracking_06_ALTAI_SESSION_00_20240822.bin']\n"
>>>>>>> b1bfb22d (new tt)
     ]
    }
   ],
   "source": [
    "import os\n",
    "# Chemin du dossier\n",
    "\n",
    "# Vérification de l'existence du dossier\n",
    "if os.path.exists(path):\n",
    "    # Liste de tous les fichiers dans le dossier\n",
    "    fichiers = [f for f in os.listdir(path) if os.path.isfile(os.path.join(path, f))]\n",
    "    print(fichiers)"
   ]
  },
  {
   "cell_type": "code",
<<<<<<< HEAD
<<<<<<< HEAD
   "execution_count": 92,
=======
   "execution_count": 90,
>>>>>>> 283d6daf (pôsitions)
=======
   "execution_count": 41,
>>>>>>> b1bfb22d (new tt)
   "metadata": {},
   "outputs": [],
   "source": [
    "all_positions = []\n",
    "for fichier in fichiers :\n",
    "    p = np.fromfile(path+'/'+fichier, dtype=np.int32)\n",
    "    all_positions.append(p)"
   ]
  },
  {
   "cell_type": "code",
<<<<<<< HEAD
<<<<<<< HEAD
   "execution_count": 93,
=======
   "execution_count": 91,
>>>>>>> 283d6daf (pôsitions)
=======
   "execution_count": 42,
>>>>>>> b1bfb22d (new tt)
   "metadata": {},
   "outputs": [
    {
     "name": "stdout",
     "output_type": "stream",
     "text": [
<<<<<<< HEAD
<<<<<<< HEAD
      "1343972\n"
=======
      "1343968\n"
>>>>>>> 283d6daf (pôsitions)
=======
      "1343972\n"
>>>>>>> b1bfb22d (new tt)
     ]
    }
   ],
   "source": [
    "p = np.hstack(all_positions)\n",
    "print(len(p))"
   ]
  },
  {
   "cell_type": "code",
<<<<<<< HEAD
<<<<<<< HEAD
   "execution_count": 94,
=======
   "execution_count": 92,
>>>>>>> 283d6daf (pôsitions)
=======
   "execution_count": 43,
>>>>>>> b1bfb22d (new tt)
   "metadata": {},
   "outputs": [],
   "source": [
    "x_p = p[np.arange(0, len(p), step=2)]\n",
    "y_p = p[np.arange(1, len(p), step=2)]\n",
    "clean_x_p = rs.clean_positions(x_p)"
   ]
  },
  {
   "cell_type": "code",
<<<<<<< HEAD
<<<<<<< HEAD
   "execution_count": 95,
   "metadata": {},
   "outputs": [
    {
     "ename": "FileNotFoundError",
     "evalue": "[Errno 2] No such file or directory: '/Volumes/data2/eTheremin/ALTAI/ALTAI_20240822_SESSION_00//session_ALTAI_SESSION_00_20240806.json'",
     "output_type": "error",
     "traceback": [
      "\u001b[0;31m---------------------------------------------------------------------------\u001b[0m",
      "\u001b[0;31mFileNotFoundError\u001b[0m                         Traceback (most recent call last)",
      "Cell \u001b[0;32mIn[95], line 7\u001b[0m\n\u001b[1;32m      4\u001b[0m json_path \u001b[38;5;241m=\u001b[39m folder\u001b[38;5;241m+\u001b[39m\u001b[38;5;124m'\u001b[39m\u001b[38;5;124m/session_ALTAI_SESSION_00_20240806.json\u001b[39m\u001b[38;5;124m'\u001b[39m\n\u001b[1;32m      6\u001b[0m \u001b[38;5;66;03m# Charger le fichier JSON\u001b[39;00m\n\u001b[0;32m----> 7\u001b[0m \u001b[38;5;28;01mwith\u001b[39;00m \u001b[38;5;28;43mopen\u001b[39;49m\u001b[43m(\u001b[49m\u001b[43mjson_path\u001b[49m\u001b[43m,\u001b[49m\u001b[43m \u001b[49m\u001b[38;5;124;43m'\u001b[39;49m\u001b[38;5;124;43mr\u001b[39;49m\u001b[38;5;124;43m'\u001b[39;49m\u001b[43m)\u001b[49m \u001b[38;5;28;01mas\u001b[39;00m f:\n\u001b[1;32m      8\u001b[0m     data \u001b[38;5;241m=\u001b[39m json\u001b[38;5;241m.\u001b[39mload(f)\n\u001b[1;32m     10\u001b[0m \u001b[38;5;66;03m# Dictionnaires pour stocker les valeurs de 'Positions_fn' et 'playback' Positions_fn\u001b[39;00m\n",
      "File \u001b[0;32m~/Library/Python/3.9/lib/python/site-packages/IPython/core/interactiveshell.py:310\u001b[0m, in \u001b[0;36m_modified_open\u001b[0;34m(file, *args, **kwargs)\u001b[0m\n\u001b[1;32m    303\u001b[0m \u001b[38;5;28;01mif\u001b[39;00m file \u001b[38;5;129;01min\u001b[39;00m {\u001b[38;5;241m0\u001b[39m, \u001b[38;5;241m1\u001b[39m, \u001b[38;5;241m2\u001b[39m}:\n\u001b[1;32m    304\u001b[0m     \u001b[38;5;28;01mraise\u001b[39;00m \u001b[38;5;167;01mValueError\u001b[39;00m(\n\u001b[1;32m    305\u001b[0m         \u001b[38;5;124mf\u001b[39m\u001b[38;5;124m\"\u001b[39m\u001b[38;5;124mIPython won\u001b[39m\u001b[38;5;124m'\u001b[39m\u001b[38;5;124mt let you open fd=\u001b[39m\u001b[38;5;132;01m{\u001b[39;00mfile\u001b[38;5;132;01m}\u001b[39;00m\u001b[38;5;124m by default \u001b[39m\u001b[38;5;124m\"\u001b[39m\n\u001b[1;32m    306\u001b[0m         \u001b[38;5;124m\"\u001b[39m\u001b[38;5;124mas it is likely to crash IPython. If you know what you are doing, \u001b[39m\u001b[38;5;124m\"\u001b[39m\n\u001b[1;32m    307\u001b[0m         \u001b[38;5;124m\"\u001b[39m\u001b[38;5;124myou can use builtins\u001b[39m\u001b[38;5;124m'\u001b[39m\u001b[38;5;124m open.\u001b[39m\u001b[38;5;124m\"\u001b[39m\n\u001b[1;32m    308\u001b[0m     )\n\u001b[0;32m--> 310\u001b[0m \u001b[38;5;28;01mreturn\u001b[39;00m \u001b[43mio_open\u001b[49m\u001b[43m(\u001b[49m\u001b[43mfile\u001b[49m\u001b[43m,\u001b[49m\u001b[43m \u001b[49m\u001b[38;5;241;43m*\u001b[39;49m\u001b[43margs\u001b[49m\u001b[43m,\u001b[49m\u001b[43m \u001b[49m\u001b[38;5;241;43m*\u001b[39;49m\u001b[38;5;241;43m*\u001b[39;49m\u001b[43mkwargs\u001b[49m\u001b[43m)\u001b[49m\n",
      "\u001b[0;31mFileNotFoundError\u001b[0m: [Errno 2] No such file or directory: '/Volumes/data2/eTheremin/ALTAI/ALTAI_20240822_SESSION_00//session_ALTAI_SESSION_00_20240806.json'"
=======
   "execution_count": 93,
=======
   "execution_count": 44,
>>>>>>> b1bfb22d (new tt)
   "metadata": {},
   "outputs": [
    {
     "name": "stdout",
     "output_type": "stream",
     "text": [
<<<<<<< HEAD
      "Positions Tracking: {'Block_000': 'positions_tail_00_ALTAI_SESSION_00_20240807.bin', 'Block_001': 'positions_tracking_01_ALTAI_SESSION_00_20240807.bin', 'Block_002': 'positions_tracking_02_ALTAI_SESSION_00_20240807.bin', 'Block_003': 'positions_tracking_03_ALTAI_SESSION_00_20240807.bin', 'Block_004': 'positions_tracking_04_ALTAI_SESSION_00_20240807.bin', 'Block_005': 'positions_tracking_05_ALTAI_SESSION_00_20240807.bin', 'Block_006': 'positions_tracking_06_ALTAI_SESSION_00_20240807.bin', 'Block_007': 'positions_tail_07_ALTAI_SESSION_00_20240807.bin'}\n",
      "Positions Playback: {}\n"
>>>>>>> 283d6daf (pôsitions)
=======
      "Positions Tracking: {'Block_000': 'positions_tail_00_ALTAI_SESSION_00_20240822.bin', 'Block_001': 'positions_tracking_01_ALTAI_SESSION_00_20240822.bin', 'Block_002': 'positions_tracking_02_ALTAI_SESSION_00_20240822.bin', 'Block_003': 'positions_tracking_03_ALTAI_SESSION_00_20240822.bin', 'Block_004': 'positions_tracking_04_ALTAI_SESSION_00_20240822.bin', 'Block_005': 'positions_tracking_05_ALTAI_SESSION_00_20240822.bin', 'Block_006': 'positions_tracking_06_ALTAI_SESSION_00_20240822.bin', 'Block_007': 'positions_tail_07_ALTAI_SESSION_00_20240822.bin'}\n",
      "Positions Playback: {'Block_001': 'positions_playback_01_ALTAI_SESSION_00_20240822.bin', 'Block_002': 'positions_playback_02_ALTAI_SESSION_00_20240822.bin', 'Block_003': 'positions_playback_03_ALTAI_SESSION_00_20240822.bin', 'Block_004': 'positions_playback_04_ALTAI_SESSION_00_20240822.bin', 'Block_005': 'positions_playback_05_ALTAI_SESSION_00_20240822.bin', 'Block_006': 'positions_playback_06_ALTAI_SESSION_00_20240822.bin'}\n"
>>>>>>> b1bfb22d (new tt)
     ]
    }
   ],
   "source": [
    "import json\n",
    "\n",
    "# Chemin vers votre fichier JSON\n",
    "json_path = folder+'/session_ALTAI_SESSION_00_20240822.json'\n",
    "\n",
    "# Charger le fichier JSON\n",
    "with open(json_path, 'r') as f:\n",
    "    data = json.load(f)\n",
    "\n",
    "# Dictionnaires pour stocker les valeurs de 'Positions_fn' et 'playback' Positions_fn\n",
    "positions_tracking = {}\n",
    "positions_playback = {}\n",
    "\n",
    "# Parcourir chaque clé dans le JSON\n",
    "for block, content in data.items():\n",
    "    # Vérifier si c'est un bloc\n",
    "    if block.startswith(\"Block\"):\n",
    "        # Récupérer 'Positions_fn' dans le bloc principal s'il existe\n",
    "        if \"Positions_fn\" in content:\n",
    "            positions_tracking[block] = content[\"Positions_fn\"]\n",
    "        \n",
    "        # Récupérer 'Positions_fn' dans 'tracking' s'il existe\n",
    "        if \"tracking\" in content and \"Positions_fn\" in content[\"tracking\"]:\n",
    "            positions_tracking[block] = content[\"tracking\"][\"Positions_fn\"]\n",
    "        \n",
    "        # Récupérer 'Positions_fn' dans 'playback' s'il existe\n",
    "        if \"playback\" in content and \"Positions_fn\" in content[\"playback\"]:\n",
    "            positions_playback[block] = content[\"playback\"][\"Positions_fn\"]\n",
    "\n",
    "# Afficher les valeurs récupérées\n",
    "print(\"Positions Tracking:\", positions_tracking)\n",
    "print(\"Positions Playback:\", positions_playback)\n",
    "\n"
   ]
  },
  {
   "cell_type": "code",
<<<<<<< HEAD
<<<<<<< HEAD
   "execution_count": null,
=======
   "execution_count": 94,
>>>>>>> 283d6daf (pôsitions)
=======
   "execution_count": 45,
>>>>>>> b1bfb22d (new tt)
   "metadata": {},
   "outputs": [
    {
     "name": "stdout",
     "output_type": "stream",
     "text": [
      "Positions Concatenated: {'Block_000': ['positions_tail_00_ALTAI_SESSION_00_20240822.bin'], 'Block_001': ['positions_tracking_01_ALTAI_SESSION_00_20240822.bin', 'positions_playback_01_ALTAI_SESSION_00_20240822.bin'], 'Block_002': ['positions_tracking_02_ALTAI_SESSION_00_20240822.bin', 'positions_playback_02_ALTAI_SESSION_00_20240822.bin'], 'Block_003': ['positions_tracking_03_ALTAI_SESSION_00_20240822.bin', 'positions_playback_03_ALTAI_SESSION_00_20240822.bin'], 'Block_004': ['positions_tracking_04_ALTAI_SESSION_00_20240822.bin', 'positions_playback_04_ALTAI_SESSION_00_20240822.bin'], 'Block_005': ['positions_tracking_05_ALTAI_SESSION_00_20240822.bin', 'positions_playback_05_ALTAI_SESSION_00_20240822.bin'], 'Block_006': ['positions_tracking_06_ALTAI_SESSION_00_20240822.bin', 'positions_playback_06_ALTAI_SESSION_00_20240822.bin'], 'Block_007': ['positions_tail_07_ALTAI_SESSION_00_20240822.bin']}\n"
     ]
    }
   ],
   "source": [
    "import json\n",
    "\n",
    "\n",
    "# Charger le fichier JSON\n",
    "with open(json_path, 'r') as f:\n",
    "    data = json.load(f)\n",
    "\n",
    "# Dictionnaire pour stocker les listes concaténées de fichiers\n",
    "positions_concatenated = {}\n",
    "\n",
    "# Parcourir chaque bloc et construire les listes concaténées\n",
    "for block, content in data.items():\n",
    "    if block.startswith(\"Block\"):\n",
    "        # Créer une liste vide pour ce bloc\n",
    "        positions_concatenated[block] = []\n",
    "        \n",
    "        # Ajouter le fichier de tracking s'il existe\n",
    "        if \"Positions_fn\" in content:\n",
    "            positions_concatenated[block].append(content[\"Positions_fn\"])\n",
    "        elif \"tracking\" in content and \"Positions_fn\" in content[\"tracking\"]:\n",
    "            positions_concatenated[block].append(content[\"tracking\"][\"Positions_fn\"])\n",
    "        \n",
    "        # Ajouter le fichier de playback s'il existe\n",
    "        if \"playback\" in content and \"Positions_fn\" in content[\"playback\"]:\n",
    "            positions_concatenated[block].append(content[\"playback\"][\"Positions_fn\"])\n",
    "\n",
    "# Afficher les résultats concaténés\n",
    "print(\"Positions Concatenated:\", positions_concatenated)\n"
   ]
  },
  {
   "cell_type": "code",
<<<<<<< HEAD
<<<<<<< HEAD
   "execution_count": null,
=======
   "execution_count": 95,
>>>>>>> 283d6daf (pôsitions)
=======
   "execution_count": 46,
>>>>>>> b1bfb22d (new tt)
   "metadata": {},
   "outputs": [
    {
     "name": "stdout",
     "output_type": "stream",
     "text": [
      "Block_000\n",
      "['positions_tail_00_ALTAI_SESSION_00_20240822.bin']\n",
      "Block_001\n",
      "['positions_tracking_01_ALTAI_SESSION_00_20240822.bin', 'positions_playback_01_ALTAI_SESSION_00_20240822.bin']\n",
      "Block_002\n",
      "['positions_tracking_02_ALTAI_SESSION_00_20240822.bin', 'positions_playback_02_ALTAI_SESSION_00_20240822.bin']\n",
      "Block_003\n",
      "['positions_tracking_03_ALTAI_SESSION_00_20240822.bin', 'positions_playback_03_ALTAI_SESSION_00_20240822.bin']\n",
      "Block_004\n",
      "['positions_tracking_04_ALTAI_SESSION_00_20240822.bin', 'positions_playback_04_ALTAI_SESSION_00_20240822.bin']\n",
      "Block_005\n",
      "['positions_tracking_05_ALTAI_SESSION_00_20240822.bin', 'positions_playback_05_ALTAI_SESSION_00_20240822.bin']\n",
      "Block_006\n",
      "['positions_tracking_06_ALTAI_SESSION_00_20240822.bin', 'positions_playback_06_ALTAI_SESSION_00_20240822.bin']\n",
      "Block_007\n",
      "['positions_tail_07_ALTAI_SESSION_00_20240822.bin']\n"
     ]
    }
   ],
   "source": [
    "positions_total, tracking_positions, mock_positions = [], [], []\n",
    "for block in positions_concatenated:\n",
    "    print(block)\n",
    "    position_files = positions_concatenated[block]\n",
    "    print(position_files)\n",
    "    if len(position_files)>1:\n",
    "        block_tr = np.fromfile(path+'/'+ position_files[0], dtype=np.int32)\n",
    "        block_pb = np.fromfile(path+'/'+ position_files[1], dtype=np.int32)\n",
    "        x_tr = block_tr[np.arange(0, len(block_tr), step=2)]\n",
    "        x_pb = block_pb[np.arange(0, len(block_pb), step=2)]\n",
    "        tracking_positions.append(rs.clean_positions(x_tr))\n",
    "        mock_positions.append(rs.clean_positions(x_pb))\n",
    "        positions_total.append(rs.clean_positions(x_tr))\n",
    "        positions_total.append(rs.clean_positions(x_pb))\n",
    "    else : \n",
    "        block_tail = np.fromfile(path+'/'+ position_files[0], dtype=np.int32)\n",
    "        x_tail = block_tail[np.arange(0, len(block_tail), step=2)]\n",
    "        positions_total.append(rs.clean_positions(x_tail))\n",
    "        tracking_positions.append(rs.clean_positions(x_tail))\n",
    "#positions_total = np.hstack(positions_total)\n",
    "#tracking_positions = np.hstack(tracking_positions)\n",
    "#mock_positions = np.hstack(mock_positions)"
   ]
  },
  {
   "cell_type": "code",
<<<<<<< HEAD
<<<<<<< HEAD
   "execution_count": null,
=======
   "execution_count": 96,
>>>>>>> 283d6daf (pôsitions)
=======
   "execution_count": 47,
   "metadata": {},
   "outputs": [],
   "source": [
    "block = 1\n",
    "pos_tr_b = tracking_positions[block]\n",
    "pos_pb_b = mock_positions[block-1] # car pas de tail\n",
    "\n",
    "clean_pos_tr_b = rs.clean_positions(pos_tr_b)\n",
    "clean_pos_pb_b = rs.clean_positions(pos_pb_b)\n",
    "\n",
    "mapping = rs.Mapping(1920, 33, 2000., 7)\n",
    "\n",
    "# Tracking\n",
    "tone_vec_tr = mapping.convert_to_frequency(clean_pos_tr_b)\n",
    "d = np.diff(tone_vec_tr)\n",
    "idx = np.where(d != 0)[0] + 1\n",
    "trigs= idx/fs\n",
    "switch_tr = tone_vec_tr[idx]\n",
    "\n",
    "# Playback\n",
    "tone_vec_pb = mapping.convert_to_frequency(clean_pos_pb_b)\n",
    "d = np.diff(tone_vec_pb)\n",
    "idx = np.where(d != 0)[0] + 1\n",
    "trigs= idx/fs\n",
    "switch_pb = tone_vec_pb[idx]\n",
    "\n",
    "# Tracking\n",
    "t_original = np.arange(len(clean_pos_tr_b)) / fs\n",
    "bin_width = 0.005  # largeur de bin de 0,005 secondes\n",
    "t_bins = np.arange(0, t_original[-1], bin_width)\n",
    "binned_tr_positions = np.interp(t_bins, t_original, clean_pos_tr_b)\n",
    "binned_tr_tones = mapping.convert_to_frequency(np.array(binned_tr_positions, dtype=int))\n",
    "\n",
    "# Playback\n",
    "t_original = np.arange(len(clean_pos_pb_b)) / fs\n",
    "bin_width = 0.005  # largeur de bin de 0,005 secondes\n",
    "t_bins = np.arange(0, t_original[-1], bin_width)\n",
    "binned_pb_positions = np.interp(t_bins, t_original, clean_pos_pb_b)\n",
    "binned_pb_tones = mapping.convert_to_frequency(np.array(binned_pb_positions, dtype=int))\n",
    "\n",
    "# Comparer avec les canaux analogiques\n",
    "tones_tracking = [elt['Played_frequency'] for elt in features if (elt['Condition'] == 0) and elt['Block'] == block]\n",
    "tones_mock = [elt['Mock_frequency'] for elt in features if elt['Condition'] == 1 and elt['Block'] == block]\n"
   ]
  },
  {
   "cell_type": "code",
   "execution_count": 48,
   "metadata": {},
   "outputs": [],
   "source": [
    "def recaler_positions_tons(an_tones, binned_positions):\n",
    "    first_non_zero = np.argmax(np.array(an_tones, dtype=int) != 0)\n",
    "\n",
    "# Créer un tableau avec des zéros jusqu'à first_non_zero\n",
    "    zeros_array = np.zeros(first_non_zero, dtype=int)\n",
    "\n",
    "# Concaténer les zéros avec clean_tracking_positions\n",
    "    binned_positions_filtered = np.concatenate((zeros_array, np.array(binned_positions, dtype=int)))\n",
    "    return binned_positions_filtered"
   ]
  },
  {
   "cell_type": "code",
   "execution_count": 49,
   "metadata": {},
   "outputs": [],
   "source": [
    "filtered_positions_tracking = recaler_positions_tons(tones_tracking, binned_tr_positions)\n",
    "binned_tr_tones = mapping.convert_to_frequency(np.array(filtered_positions_tracking, dtype=int))\n",
    "\n",
    "filtered_positions_playback = recaler_positions_tons(tones_mock, binned_pb_positions)\n",
    "binned_pb_tones = mapping.convert_to_frequency(np.array(filtered_positions_playback, dtype=int))"
   ]
  },
  {
   "cell_type": "code",
   "execution_count": 50,
   "metadata": {},
   "outputs": [],
   "source": [
    "# Comparer avec les canaux analogiques\n",
    "tones_tracking = [elt['Played_frequency'] for elt in features if (elt['Condition'] == 0) and elt['Block'] == block]\n",
    "tones_mock = [elt['Mock_frequency'] for elt in features if elt['Condition'] == 1 and elt['Block'] == block]"
   ]
  },
  {
   "cell_type": "code",
   "execution_count": 51,
   "metadata": {},
   "outputs": [
    {
     "name": "stdout",
     "output_type": "stream",
     "text": [
      "[1684, 3539, 3936, 4046, 4079, 4084, 7165, 7242, 7364, 7454, 7527, 7627, 7655, 8535, 8573, 8623, 8765, 8929, 8962, 9027, 9169, 10395, 11005, 11138, 11233, 13254, 13436, 14503, 15118, 20366, 20723, 20923, 20955, 21198, 39883, 41682, 46373, 47134, 49027, 53701, 54738]\n"
     ]
    }
   ],
   "source": [
    "def find_incorrect_indices(unique_tones, sequence_tones):\n",
    "    incorrect_indices = []\n",
    "    \n",
    "    for i in range(1, len(sequence_tones)): \n",
    "        current_tone = sequence_tones[i]\n",
    "        previous_tone = sequence_tones[i - 1]\n",
    "        \n",
    "        # Vérifier l'index du ton actuel dans `unique_tones`\n",
    "        if current_tone in unique_tones:\n",
    "            tone_index = np.where(unique_tones == current_tone)[0][0]\n",
    "            \n",
    "            # Obtenir les tons voisins et le ton lui-même dans `unique_tones`\n",
    "            allowed_tones = [current_tone]\n",
    "            if tone_index > 0:\n",
    "                allowed_tones.append(unique_tones[tone_index - 1])  # précédent\n",
    "            if tone_index < len(unique_tones) - 1:\n",
    "                allowed_tones.append(unique_tones[tone_index + 1])  # suivant\n",
    "                \n",
    "            # Vérifier si le ton précédent n'est pas dans les tons autorisés\n",
    "            if previous_tone not in allowed_tones:\n",
    "                incorrect_indices.append(i)  # Stocker l'indice si condition non respectée\n",
    "    \n",
    "    return incorrect_indices\n",
    "\n",
    "# Utilisation de la fonction\n",
    "incorrect_indices = find_incorrect_indices(unique_tones, tones_tracking)\n",
    "print(incorrect_indices)"
   ]
  },
  {
   "cell_type": "code",
   "execution_count": 52,
   "metadata": {},
   "outputs": [
    {
     "name": "stdout",
     "output_type": "stream",
     "text": [
      "[1727.0, 1727.0, 3109.0, 3109.0]\n"
     ]
    }
   ],
   "source": [
    "i = incorrect_indices[7]\n",
    "print(tones_tracking[i-2:i+2])"
   ]
  },
  {
   "cell_type": "code",
   "execution_count": 53,
   "metadata": {},
   "outputs": [],
   "source": [
    "condition = np.array([elt['Condition'] for elt in features], dtype = int)\n",
    "played_tones = np.array([elt['Played_frequency'] for elt in features], dtype = int)\n",
    "block = np.array([elt['Block'] for elt in features], dtype = int)"
   ]
  },
  {
   "cell_type": "code",
   "execution_count": 54,
   "metadata": {},
   "outputs": [],
   "source": [
    "transition_to_playback = np.where((condition[:-1] == 0) & (condition[1:] == 1))[0] + 1  # indices 0->1\n",
    "transition_to_tracking = np.where((condition[:-1] == 1) & (condition[1:] == 0))[0] + 1  # indices 1->0\n",
    "transition_block = np.where(np.diff(block) == 1)[0] + 1"
   ]
  },
  {
   "cell_type": "code",
   "execution_count": 55,
   "metadata": {},
   "outputs": [
    {
     "name": "stdout",
     "output_type": "stream",
     "text": [
      "[177078 300720 420035 540852 660841 780662]\n",
      "[177092 300726 420120 540908 660911 780684]\n"
     ]
    }
   ],
   "source": [
    "print(transition_to_tracking)\n",
    "print(transition_block[1:])"
   ]
  },
  {
   "cell_type": "code",
   "execution_count": 56,
>>>>>>> b1bfb22d (new tt)
   "metadata": {},
   "outputs": [
    {
     "data": {
      "text/plain": [
       "array([177078, 300720, 420035, 540852, 660841, 780662])"
      ]
     },
<<<<<<< HEAD
<<<<<<< HEAD
     "execution_count": 67,
=======
     "execution_count": 56,
>>>>>>> b1bfb22d (new tt)
     "metadata": {},
     "output_type": "execute_result"
    }
   ],
   "source": [
<<<<<<< HEAD
    "features"
=======
    "transition_to_tracking"
>>>>>>> b1bfb22d (new tt)
   ]
  },
  {
   "cell_type": "code",
<<<<<<< HEAD
   "execution_count": null,
   "metadata": {},
   "outputs": [
    {
     "ename": "IndexError",
     "evalue": "only integers, slices (`:`), ellipsis (`...`), numpy.newaxis (`None`) and integer or boolean arrays are valid indices",
     "output_type": "error",
     "traceback": [
      "\u001b[0;31m---------------------------------------------------------------------------\u001b[0m",
      "\u001b[0;31mIndexError\u001b[0m                                Traceback (most recent call last)",
      "Cell \u001b[0;32mIn[69], line 1\u001b[0m\n\u001b[0;32m----> 1\u001b[0m plt\u001b[38;5;241m.\u001b[39mplot([elt \u001b[38;5;28;01mfor\u001b[39;00m elt \u001b[38;5;129;01min\u001b[39;00m \u001b[43mfeatures\u001b[49m\u001b[43m[\u001b[49m\u001b[38;5;28;43mbin\u001b[39;49m\u001b[43m]\u001b[49m[\u001b[38;5;124m'\u001b[39m\u001b[38;5;124mPlayed_frequency\u001b[39m\u001b[38;5;124m'\u001b[39m]])\n",
      "\u001b[0;31mIndexError\u001b[0m: only integers, slices (`:`), ellipsis (`...`), numpy.newaxis (`None`) and integer or boolean arrays are valid indices"
=======
   "execution_count": 57,
   "metadata": {},
   "outputs": [],
   "source": [
    "tt_tones = np.array(tt['tones'], dtype=int)\n",
    "tt_triggers = np.array(tt['triggers'], dtype=int)\n",
    "tt_condition = np.array(tt['condition'], dtype=int)\n",
    "block = tt['block']\n",
    "tt_block = [int(block.split('_0')[1]) for block in tt['block']]\n"
   ]
  },
  {
   "cell_type": "code",
   "execution_count": 58,
   "metadata": {},
   "outputs": [],
   "source": [
    "transition_to_playback = np.where((tt_condition[:-1] == 0) & (tt_condition[1:] == 1))[0] + 1  # indices 0->1\n",
    "transition_to_tracking = np.where((tt_condition[:-1] == 1) & (tt_condition[1:] == 0))[0] + 1  # indices 1->0\n",
    "transition_block = np.where(np.diff(tt_block) == 1)[0] + 1"
   ]
  },
  {
   "cell_type": "code",
   "execution_count": 59,
   "metadata": {},
   "outputs": [
    {
     "name": "stdout",
     "output_type": "stream",
     "text": [
      "[2303 3919 4979 6819 8302]\n",
      "[ 2303  3919  4979  6819  8302 10158]\n"
>>>>>>> b1bfb22d (new tt)
     ]
    }
   ],
   "source": [
<<<<<<< HEAD
    "plt.plot([elt for elt in features[bin]['Played_frequency']])"
=======
    "print(transition_to_tracking)\n",
    "print(transition_block[1:])"
>>>>>>> b1bfb22d (new tt)
   ]
  },
  {
   "cell_type": "code",
<<<<<<< HEAD
   "execution_count": null,
=======
   "execution_count": 62,
   "metadata": {},
   "outputs": [
    {
     "ename": "MemoryError",
     "evalue": "Unable to allocate 187. GiB for an array with shape (25134789201,) and data type float64",
     "output_type": "error",
     "traceback": [
      "\u001b[0;31m---------------------------------------------------------------------------\u001b[0m",
      "\u001b[0;31mMemoryError\u001b[0m                               Traceback (most recent call last)",
      "Cell \u001b[0;32mIn[62], line 5\u001b[0m\n\u001b[1;32m      2\u001b[0m min_value \u001b[38;5;241m=\u001b[39m tt_triggers\u001b[38;5;241m.\u001b[39mmin()  \u001b[38;5;66;03m# Get the minimum value of 'spike_time'\u001b[39;00m\n\u001b[1;32m      3\u001b[0m max_value \u001b[38;5;241m=\u001b[39m tt_triggers\u001b[38;5;241m.\u001b[39mmax()  \u001b[38;5;66;03m# Get the maximum value of 'spike_time'\u001b[39;00m\n\u001b[0;32m----> 5\u001b[0m bins \u001b[38;5;241m=\u001b[39m \u001b[43mnp\u001b[49m\u001b[38;5;241;43m.\u001b[39;49m\u001b[43marange\u001b[49m\u001b[43m(\u001b[49m\u001b[43mmin_value\u001b[49m\u001b[43m,\u001b[49m\u001b[43m \u001b[49m\u001b[43mmax_value\u001b[49m\u001b[43m \u001b[49m\u001b[38;5;241;43m+\u001b[39;49m\u001b[43m \u001b[49m\u001b[43mbin_width\u001b[49m\u001b[43m,\u001b[49m\u001b[43m \u001b[49m\u001b[43mbin_width\u001b[49m\u001b[43m)\u001b[49m \n\u001b[1;32m      8\u001b[0m stimulus_presence \u001b[38;5;241m=\u001b[39m np\u001b[38;5;241m.\u001b[39mzeros(\u001b[38;5;28mlen\u001b[39m(bins) \u001b[38;5;241m-\u001b[39m \u001b[38;5;241m1\u001b[39m, dtype\u001b[38;5;241m=\u001b[39m\u001b[38;5;28mbool\u001b[39m)\n\u001b[1;32m      9\u001b[0m interpolated_freq \u001b[38;5;241m=\u001b[39m np\u001b[38;5;241m.\u001b[39mzeros(\u001b[38;5;28mlen\u001b[39m(bins) \u001b[38;5;241m-\u001b[39m \u001b[38;5;241m1\u001b[39m)\n",
      "\u001b[0;31mMemoryError\u001b[0m: Unable to allocate 187. GiB for an array with shape (25134789201,) and data type float64"
     ]
    }
   ],
   "source": [
    "bin_width = 0.005\n",
    "min_value = tt_triggers.min()  # Get the minimum value of 'spike_time'\n",
    "max_value = tt_triggers.max()  # Get the maximum value of 'spike_time'\n",
    "\n",
    "bins = np.arange(min_value, max_value + bin_width, bin_width) \n",
    "\n",
    "\n",
    "stimulus_presence = np.zeros(len(bins) - 1, dtype=bool)\n",
    "interpolated_freq = np.zeros(len(bins) - 1)\n",
    "interpolated_type_stim = np.zeros(len(bins) - 1)\n",
    "interpolated_block_stim = np.zeros(len(bins) - 1)\n",
    "previous_frequency = None\n",
    "previous_condition = None\n",
    "previous_block = None\n",
    "\n",
    "\n",
    "\n",
    "for i in range(len(bins) - 1):\n",
    "    bin_start = bins[i]\n",
    "    bin_end = bins[i + 1]\n",
    "\n",
    "        # Check if any stimuli fall within the current bin\n",
    "    stimuli_in_bin = (tt_triggers >= bin_start) & (tt_triggers < bin_end)\n",
    "    if np.any(stimuli_in_bin):\n",
    "            # If stimuli are present, set stimulus_presence to True for this bin\n",
    "        stimulus_presence[i] = True\n",
    "\n",
    "            # Calculate the frequency associated with the bin (assuming frequency remains constant within the bin)\n",
    "            # You can simply take the frequency of the first stimulus within the bin\n",
    "        interpolated_freq[i] = tt_tones[stimuli_in_bin][0]\n",
    "        interpolated_type_stim[i] = tt_condition[stimuli_in_bin][0]\n",
    "        interpolated_block_stim[i] = tt_block[stimuli_in_bin][0]\n",
    "\n",
    "\n",
    "        previous_frequency = interpolated_freq[i]  # Update previous frequency\n",
    "        previous_condition = interpolated_type_stim[i]\n",
    "        previous_block = interpolated_block_stim[i]\n",
    "\n",
    "            \n",
    "    else:\n",
    "            # If no stimulus in the bin, set bin_frequencies to the previous frequency\n",
    "        if previous_frequency is not None:\n",
    "            interpolated_freq[i] = previous_frequency\n",
    "            interpolated_type_stim[i] = previous_condition\n",
    "            interpolated_block_stim[i] = previous_block"
   ]
  },
  {
   "cell_type": "code",
   "execution_count": 590,
>>>>>>> b1bfb22d (new tt)
   "metadata": {},
   "outputs": [
    {
     "data": {
      "text/plain": [
<<<<<<< HEAD
       "[<matplotlib.lines.Line2D at 0x2d2a30880>]"
      ]
     },
     "execution_count": 65,
=======
     "execution_count": 96,
>>>>>>> 283d6daf (pôsitions)
=======
       "<matplotlib.collections.PathCollection at 0x77c00b441de0>"
      ]
     },
     "execution_count": 590,
>>>>>>> b1bfb22d (new tt)
     "metadata": {},
     "output_type": "execute_result"
    },
    {
     "data": {
      "image/png": "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",
      "text/plain": [
       "<Figure size 640x480 with 1 Axes>"
      ]
     },
     "metadata": {},
     "output_type": "display_data"
    }
   ],
   "source": [
    "plt.plot(binned_tr_tones[:4500], c = 'grey')\n",
    "plt.plot(tones_tracking[:4500], c = 'red')\n",
    "plt.scatter(incorrect_indices[0:6], np.full_like(incorrect_indices[0:6], 6000), c = 'blue')"
   ]
  },
  {
   "cell_type": "code",
<<<<<<< HEAD
<<<<<<< HEAD
   "execution_count": null,
=======
   "execution_count": 97,
=======
   "execution_count": 560,
   "metadata": {},
   "outputs": [
    {
     "data": {
      "text/plain": [
       "[<matplotlib.lines.Line2D at 0x77c009b25db0>]"
      ]
     },
     "execution_count": 560,
     "metadata": {},
     "output_type": "execute_result"
    },
    {
     "data": {
      "image/png": "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",
      "text/plain": [
       "<Figure size 640x480 with 1 Axes>"
      ]
     },
     "metadata": {},
     "output_type": "display_data"
    }
   ],
   "source": [
    "plt.plot(binned_pb_tones[4000:10000], c = 'grey')\n",
    "plt.plot(tones_mock[4000:10000], c = 'red') # retirer les 0 ici"
   ]
  },
  {
   "cell_type": "code",
   "execution_count": 221,
>>>>>>> b1bfb22d (new tt)
   "metadata": {},
   "outputs": [],
   "source": [
    "import numpy as np\n",
    "\n",
    "def clean_positions(positions):\n",
    "    \"\"\"\n",
    "    Fonction de nettoyage des positions enregistrées au cours de l'expérience. Pour rappel,\n",
    "    une valeur de -1 indique que le sujet n'a pas été détecté par le réseau de neurones.\n",
    "    Cette version remplace toutes les occurrences de -1, même celles qui sont à la fin ou dans une séquence continue.\n",
    "    \n",
    "    :param positions: Tableau des positions avec potentiellement des valeurs -1\n",
    "    :return: Tableau des positions avec toutes les valeurs -1 remplacées\n",
    "    \"\"\"\n",
    "    \n",
    "    # Identifier les indices où positions == -1\n",
    "    y = np.where(positions == -1)[0]\n",
    "    \n",
    "    if len(y) == 0:\n",
    "        # Aucun -1 à remplacer\n",
    "        return positions\n",
    "    \n",
    "    # Parcourir toutes les séquences de -1 et les remplacer\n",
    "    k = 0\n",
    "    begin = None\n",
    "    for i in range(len(y)):\n",
    "        if i == 0 or y[i] == y[i - 1] + 1:\n",
    "            # Début ou continuité d'une séquence de -1\n",
    "            if k == 0:\n",
    "                begin = y[i]  # Enregistrer le début de la séquence\n",
    "            k += 1\n",
    "        else:\n",
    "            # Fin d'une séquence de -1\n",
    "            end = y[i - 1]\n",
    "            filler_value = positions[begin - 1] if begin > 0 else positions[end + 1]\n",
    "            positions[begin:end + 1] = filler_value\n",
    "            k = 1\n",
    "            begin = y[i]\n",
    "    \n",
    "    # Traiter la dernière séquence de -1, s'il y en a\n",
    "    if k > 0:\n",
    "        end = y[-1]\n",
    "        filler_value = positions[begin - 1] if begin > 0 else positions[end + 1]\n",
    "        positions[begin:end + 1] = filler_value\n",
    "\n",
    "    return positions\n"
   ]
  },
  {
   "cell_type": "code",
<<<<<<< HEAD
   "execution_count": 98,
>>>>>>> 283d6daf (pôsitions)
=======
   "execution_count": 188,
>>>>>>> b1bfb22d (new tt)
   "metadata": {},
   "outputs": [],
   "source": [
    "clean_positions_total = clean_positions(positions_total)"
   ]
  },
  {
   "cell_type": "code",
<<<<<<< HEAD
<<<<<<< HEAD
   "execution_count": null,
=======
   "execution_count": 99,
=======
   "execution_count": 222,
>>>>>>> b1bfb22d (new tt)
   "metadata": {},
   "outputs": [],
   "source": [
    "#clean_tracking_positions = clean_positions(tracking_positions)"
   ]
  },
  {
   "cell_type": "code",
<<<<<<< HEAD
   "execution_count": 100,
>>>>>>> 283d6daf (pôsitions)
   "metadata": {},
   "outputs": [
    {
     "data": {
      "text/plain": [
       "479983"
      ]
     },
     "execution_count": 100,
     "metadata": {},
     "output_type": "execute_result"
    }
   ],
   "source": [
    "len(positions_interpolated)"
   ]
  },
  {
   "cell_type": "code",
<<<<<<< HEAD
   "execution_count": null,
=======
   "execution_count": 101,
>>>>>>> 283d6daf (pôsitions)
   "metadata": {},
   "outputs": [
    {
     "data": {
      "text/plain": [
       "841884"
      ]
     },
     "execution_count": 101,
     "metadata": {},
     "output_type": "execute_result"
    }
   ],
   "source": [
    "len(features)"
   ]
  },
  {
   "cell_type": "code",
   "execution_count": 103,
=======
   "execution_count": 405,
>>>>>>> b1bfb22d (new tt)
   "metadata": {},
   "outputs": [],
   "source": [
    "mapping = rs.Mapping(1920, 33, 2000., 7)\n",
    "tone_vec = mapping.convert_to_frequency(clean_positions_total)\n",
    "d = np.diff(tone_vec)\n",
    "idx = np.where(d != 0)[0] + 1\n",
    "trigs= idx/fs\n",
    "switch = tone_vec[idx]\n"
   ]
  },
  {
   "cell_type": "code",
   "execution_count": 406,
   "metadata": {},
   "outputs": [],
   "source": [
    "import pickle\n",
    "\n",
    "# Path to your .pkl file\n",
    "file_path = folder + 'headstage_0/tt.pkl'\n",
    "\n",
    "# Load the pickle file\n",
    "with open(file_path, \"rb\") as file:\n",
    "    tt = pickle.load(file)"
   ]
  },
  {
   "cell_type": "code",
   "execution_count": 434,
   "metadata": {},
   "outputs": [],
   "source": [
    "tones = np.array(tt['tones'], dtype = int)\n",
    "condition = np.array(tt['condition'], dtype = int)\n",
    "triggers = np.array(tt['triggers'], dtype = int)\n",
    "mock_triggers = np.array(tt['mock_triggers'], dtype = int)\n",
    "indices = np.where((condition == 0) | (condition == -1))[0]\n",
    "\n",
    "# Sélectionner les valeurs correspondantes dans tones\n",
    "#mock_tones = np.array(tt['mock_tones'], dtype = int)\n",
    "tracking_tones = tones[indices]\n",
    "mock_tones = np.array(tt['mock_tones'], dtype = int)\n",
    "tracking_triggers = triggers[indices]"
   ]
  },
  {
   "cell_type": "code",
   "execution_count": 435,
   "metadata": {},
   "outputs": [],
   "source": [
    "triggers_total = np.concatenate((tracking_triggers, mock_triggers))\n",
    "tones_total = np.concatenate((tracking_tones, mock_tones))\n",
    "indices_tri = np.argsort(triggers_total)\n",
    "\n",
    "# Trier `tableau1` et réorganiser `tableau2` selon ces indices\n",
    "trigs = triggers_total[indices_tri]\n",
    "tones_tot = tones_total[indices_tri]"
   ]
  },
  {
   "cell_type": "code",
   "execution_count": 436,
   "metadata": {},
   "outputs": [
    {
     "name": "stdout",
     "output_type": "stream",
     "text": [
      "10070 10070\n"
     ]
    }
   ],
   "source": [
    "print(len(trigs), len(tones_tot))"
   ]
  },
  {
   "cell_type": "code",
   "execution_count": 437,
   "metadata": {},
   "outputs": [],
   "source": [
    "positions_tones = switch\n"
   ]
  },
  {
   "cell_type": "code",
   "execution_count": 422,
   "metadata": {},
   "outputs": [
    {
     "name": "stdout",
     "output_type": "stream",
     "text": [
      "Signal binned avec des bins de 0.005s : [ 751.  751.  751. ... 1461. 1461. 1461.]\n"
     ]
    }
   ],
   "source": [
    "# Créer les temps originaux\n",
    "t_original = np.arange(len(clean_positions_total)) / fs\n",
    "\n",
    "# Définir les nouveaux temps pour des bins de 0,005s\n",
    "bin_width = 0.005  # largeur de bin de 0,005 secondes\n",
    "t_bins = np.arange(0, t_original[-1], bin_width)\n",
    "\n",
    "# Interpolation du signal aux nouveaux temps\n",
    "binned_positions = np.interp(t_bins, t_original, clean_positions_total)\n",
    "\n",
    "print(\"Signal binned avec des bins de 0.005s :\", binned_positions)"
   ]
  },
  {
   "cell_type": "code",
   "execution_count": 448,
   "metadata": {},
   "outputs": [
    {
     "data": {
      "text/plain": [
       "'Block_007'"
      ]
     },
     "execution_count": 448,
     "metadata": {},
     "output_type": "execute_result"
    }
   ],
   "source": [
    "tt['block'][-1]"
   ]
  },
  {
   "cell_type": "code",
   "execution_count": 449,
   "metadata": {},
   "outputs": [],
   "source": [
    "tones_total = []\n",
    "for block in range(0, 7):\n",
    "    tones_total.append([elt['Played_frequency'] for elt in features if (elt['Condition'] == 0 or elt['Condition'] == -1) and elt['Block'] == block])\n",
    "    tones_total.append([elt['Mock_frequency'] for elt in features if elt['Condition'] == 1 and elt['Block'] == block])\n",
    "tones_total = np.hstack(tones_total)"
   ]
  },
  {
   "cell_type": "code",
   "execution_count": 450,
   "metadata": {},
   "outputs": [
    {
     "data": {
      "text/plain": [
       "780090"
      ]
     },
     "execution_count": 450,
     "metadata": {},
     "output_type": "execute_result"
    }
   ],
   "source": [
    "len(tones_total)"
   ]
  },
  {
   "cell_type": "code",
   "execution_count": 446,
   "metadata": {},
   "outputs": [
    {
     "data": {
      "text/plain": [
       "841911"
      ]
     },
     "execution_count": 446,
     "metadata": {},
     "output_type": "execute_result"
    }
   ],
   "source": [
    "len(features)"
   ]
  },
  {
   "cell_type": "code",
   "execution_count": 313,
   "metadata": {},
   "outputs": [],
   "source": [
    "#tones_tracking_filtered = np.trim_zeros(tones_tracking, 'f') "
   ]
  },
  {
   "cell_type": "code",
   "execution_count": 439,
   "metadata": {},
   "outputs": [],
   "source": [
    "def recaler_positions_tons(an_tones, binned_positions):\n",
    "    first_non_zero = np.argmax(np.array(an_tones, dtype=int) != 0)\n",
    "\n",
    "# Créer un tableau avec des zéros jusqu'à first_non_zero\n",
    "    zeros_array = np.zeros(first_non_zero, dtype=int)\n",
    "\n",
    "# Concaténer les zéros avec clean_tracking_positions\n",
    "    binned_positions_filtered = np.concatenate((zeros_array, np.array(binned_positions, dtype=int)))\n",
    "    return binned_positions_filtered\n"
   ]
  },
  {
   "cell_type": "code",
   "execution_count": 462,
   "metadata": {},
   "outputs": [
    {
     "name": "stdout",
     "output_type": "stream",
     "text": [
      "840879 841911\n"
     ]
    }
   ],
   "source": [
    "print(len(binned_positions_filtered), len(features))"
   ]
  },
  {
   "cell_type": "code",
   "execution_count": 440,
   "metadata": {},
   "outputs": [
    {
     "name": "stdout",
     "output_type": "stream",
     "text": [
      "840879 841911\n"
     ]
    }
   ],
   "source": [
    "print(len(binned_positions_filtered), len(features))"
   ]
  },
  {
   "cell_type": "code",
   "execution_count": 441,
   "metadata": {},
   "outputs": [],
   "source": [
    "mapping = rs.Mapping(1920, 33, 2000., 7)\n",
    "tone_vec = mapping.convert_to_frequency(np.array(binned_positions_filtered, dtype = int))\n",
    "d = np.diff(tone_vec)\n",
    "idx = np.where(d != 0)[0] + 1\n",
    "trigs= idx/fs\n",
    "switch = tone_vec[idx]"
   ]
  },
  {
   "cell_type": "code",
   "execution_count": 484,
   "metadata": {},
   "outputs": [
    {
     "name": "stdout",
     "output_type": "stream",
     "text": [
      "840879\n"
     ]
    }
   ],
   "source": [
    "tones_positions = tone_vec\n",
    "print(len(tones_positions))"
   ]
  },
  {
   "cell_type": "code",
   "execution_count": 520,
   "metadata": {},
   "outputs": [
    {
     "name": "stdout",
     "output_type": "stream",
     "text": [
      "365493\n"
     ]
    },
    {
     "data": {
      "text/plain": [
       "[<matplotlib.lines.Line2D at 0x77c003254fa0>]"
      ]
     },
     "execution_count": 520,
     "metadata": {},
     "output_type": "execute_result"
    },
    {
     "data": {
      "image/png": "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",
      "text/plain": [
       "<Figure size 640x480 with 1 Axes>"
      ]
     },
     "metadata": {},
     "output_type": "display_data"
    }
   ],
   "source": [
    "n = int(840879/3)+85200\n",
    "print(n)\n",
    "\n",
    "plt.plot(tones_total[n:n+1000], c = 'red')\n",
    "plt.plot(tones_positions[n : n+1000])"
   ]
  },
  {
   "cell_type": "code",
   "execution_count": 531,
   "metadata": {},
   "outputs": [
    {
     "name": "stdout",
     "output_type": "stream",
     "text": [
      "30200\n"
     ]
    },
    {
     "data": {
      "text/plain": [
       "[<matplotlib.lines.Line2D at 0x77c005fb9660>]"
      ]
     },
     "execution_count": 531,
     "metadata": {},
     "output_type": "execute_result"
    },
    {
     "data": {
      "image/png": "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",
      "text/plain": [
       "<Figure size 640x480 with 1 Axes>"
      ]
     },
     "metadata": {},
     "output_type": "display_data"
    }
   ],
   "source": [
    "n = 30000+200\n",
    "print(n)\n",
    "\n",
    "plt.plot(tones_total[n:n+1000], c = 'red')\n",
    "plt.plot(tones_positions[n : n+1000])"
   ]
  },
  {
   "cell_type": "code",
   "execution_count": 394,
   "metadata": {},
   "outputs": [
    {
     "data": {
      "text/plain": [
       "[<matplotlib.lines.Line2D at 0x77bff7dd4190>]"
      ]
     },
     "execution_count": 394,
     "metadata": {},
     "output_type": "execute_result"
    },
    {
     "data": {
      "image/png": "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",
      "text/plain": [
       "<Figure size 640x480 with 1 Axes>"
      ]
     },
     "metadata": {},
     "output_type": "display_data"
    }
   ],
   "source": [
    "plt.plot(tone_vec[240100:250000], c = 'black')\n",
    "plt.plot(tones_tracking[240000:250000], c = 'green')\n",
    "\n",
    "# ca se décalle mais est ce que c'est pas lié à ces histoires de passage de tracking a playback? "
   ]
  },
  {
   "cell_type": "code",
   "execution_count": null,
   "metadata": {},
   "outputs": [],
   "source": [
    "# ok donc la j'ai bin par bin les fréquences qui correspondent\n",
    "# ca veut dire que j'ai le mouvement qui a conduit à jouer la fréquence dans ce bin, qui est dans le bin(meme si le mvt a eu lieu quelques ms avant)"
   ]
  },
  {
   "cell_type": "code",
   "execution_count": 338,
   "metadata": {},
   "outputs": [
    {
     "name": "stdout",
     "output_type": "stream",
     "text": [
      "480881\n",
      "481627\n"
     ]
    }
   ],
   "source": [
    "print(len(binned_positions_filtered))\n",
    "print(len(tones_tracking))\n"
   ]
  },
  {
   "cell_type": "code",
   "execution_count": 190,
   "metadata": {},
   "outputs": [
    {
     "data": {
      "text/plain": [
       "841911"
      ]
     },
     "execution_count": 190,
     "metadata": {},
     "output_type": "execute_result"
    }
   ],
   "source": [
    "len(features)"
   ]
  },
  {
   "cell_type": "code",
   "execution_count": 199,
   "metadata": {},
   "outputs": [
    {
     "name": "stdout",
     "output_type": "stream",
     "text": [
      "Signal binned avec des bins de 0.005s : [ 751.  751.  751. ... 1461. 1461. 1461.]\n"
     ]
    }
   ],
   "source": [
    "# Créer les temps originaux\n",
    "t_original = np.arange(len(clean_positions_total)) / fs\n",
    "\n",
    "# Définir les nouveaux temps pour des bins de 0,005s\n",
    "bin_width = 0.005  # largeur de bin de 0,005 secondes\n",
    "t_bins = np.arange(0, t_original[-1], bin_width)\n",
    "\n",
    "# Interpolation du signal aux nouveaux temps\n",
    "binned_signal = np.interp(t_bins, t_original, clean_positions_total)\n",
    "\n",
    "print(\"Signal binned avec des bins de 0.005s :\", binned_signal)"
   ]
  },
  {
   "cell_type": "code",
   "execution_count": 201,
   "metadata": {},
   "outputs": [
    {
     "data": {
      "text/plain": [
       "839982"
      ]
     },
     "execution_count": 201,
     "metadata": {},
     "output_type": "execute_result"
    }
   ],
   "source": [
    "len(binned_signal)"
   ]
  },
  {
   "cell_type": "code",
   "execution_count": 208,
   "metadata": {},
   "outputs": [],
   "source": [
    "mapping = rs.Mapping(1920, 33, 2000., 7)\n",
    "tone_vec = mapping.convert_to_frequency(np.array(binned_signal, dtype=int))\n",
    "d = np.diff(tone_vec)\n",
    "idx = np.where(d != 0)[0] + 1\n",
    "trigs= idx/fs\n",
    "switch = tone_vec[idx]"
   ]
  },
  {
   "cell_type": "code",
   "execution_count": 211,
   "metadata": {},
   "outputs": [
    {
     "data": {
      "text/plain": [
       "[<matplotlib.lines.Line2D at 0x77bfc3776950>]"
      ]
     },
     "execution_count": 211,
     "metadata": {},
     "output_type": "execute_result"
    },
    {
     "data": {
      "image/png": "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",
      "text/plain": [
       "<Figure size 640x480 with 1 Axes>"
      ]
     },
     "metadata": {},
     "output_type": "display_data"
    }
   ],
   "source": [
    "plt.plot(tone_vec)"
   ]
  },
  {
   "cell_type": "code",
   "execution_count": 212,
   "metadata": {},
   "outputs": [
    {
     "data": {
      "text/plain": [
       "839982"
      ]
     },
     "execution_count": 212,
     "metadata": {},
     "output_type": "execute_result"
    }
   ],
   "source": [
    "len(tone_vec)"
   ]
  },
  {
   "cell_type": "code",
   "execution_count": 213,
   "metadata": {},
   "outputs": [
    {
     "data": {
      "text/plain": [
       "9921"
      ]
     },
     "execution_count": 213,
     "metadata": {},
     "output_type": "execute_result"
    }
   ],
   "source": [
    "len(switch)"
   ]
  },
  {
   "cell_type": "code",
   "execution_count": 217,
   "metadata": {},
   "outputs": [],
   "source": [
    "tones_features = [elt['Played_frequency'] for elt in features]"
   ]
  },
  {
   "cell_type": "code",
   "execution_count": 219,
   "metadata": {},
   "outputs": [
    {
     "data": {
      "text/plain": [
       "[<matplotlib.lines.Line2D at 0x77bfc490e8f0>]"
      ]
     },
     "execution_count": 219,
     "metadata": {},
     "output_type": "execute_result"
    },
    {
     "data": {
      "image/png": "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",
      "text/plain": [
       "<Figure size 640x480 with 1 Axes>"
      ]
     },
     "metadata": {},
     "output_type": "display_data"
    }
   ],
   "source": [
    "plt.plot(tone_vec)\n",
    "plt.plot(tones_features)"
   ]
  }
 ],
 "metadata": {
  "kernelspec": {
   "display_name": "env",
   "language": "python",
   "name": "python3"
  },
  "language_info": {
   "codemirror_mode": {
    "name": "ipython",
    "version": 3
   },
   "file_extension": ".py",
   "mimetype": "text/x-python",
   "name": "python",
   "nbconvert_exporter": "python",
   "pygments_lexer": "ipython3",
   "version": "3.10.12"
  }
 },
 "nbformat": 4,
 "nbformat_minor": 2
}
