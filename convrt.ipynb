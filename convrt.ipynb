{
 "cells": [
  {
   "cell_type": "code",
   "execution_count": 1,
   "metadata": {},
   "outputs": [],
   "source": [
    "import numpy as np\n",
    "from scipy.io import savemat\n",
    "import scipy.io as sio"
   ]
  },
  {
   "cell_type": "code",
   "execution_count": 7,
   "metadata": {},
   "outputs": [],
   "source": [
    "#path = 'Z:/eTheremin/OSCYPEK/OSCYPEK/OSCYPEK_20240710_SESSION_00/' \n",
    "#path = 'Z:/eTheremin/ALTAI/ALTAI_20240712_SESSION_00/'\n",
    "path = 'Z:/eTheremin/ALTAI/ALTAI_20240914_SESSION_00/'\n",
    "data = np.load(path + 'neural_data.npy', allow_pickle = True)"
   ]
  },
  {
   "cell_type": "code",
   "execution_count": 6,
   "metadata": {},
   "outputs": [],
   "source": [
    "num_channel = 32\n",
    "for k in range(num_channel):\n",
    "    data_C = data[k,:]\n",
    "    data_dict = {'data': data_C,'sr':30000}\n",
    "    savemat(path + 'Nouveau dossier/C'+ str(k) +'.mat',data_dict)"
   ]
  },
  {
   "cell_type": "code",
   "execution_count": 9,
   "metadata": {},
   "outputs": [
    {
     "name": "stdout",
     "output_type": "stream",
     "text": [
      "dict_keys(['__header__', '__version__', '__globals__', 'data', 'sr'])\n"
     ]
    }
   ],
   "source": [
    "mat_data = sio.loadmat(path + 'Nouveau dossier/filtered_C6.mat')\n",
    "print(mat_data.keys())"
   ]
  }
 ],
 "metadata": {
  "kernelspec": {
   "display_name": "Python 3",
   "language": "python",
   "name": "python3"
  },
  "language_info": {
   "codemirror_mode": {
    "name": "ipython",
    "version": 3
   },
   "file_extension": ".py",
   "mimetype": "text/x-python",
   "name": "python",
   "nbconvert_exporter": "python",
   "pygments_lexer": "ipython3",
   "version": "3.11.9"
  }
 },
 "nbformat": 4,
 "nbformat_minor": 2
}
